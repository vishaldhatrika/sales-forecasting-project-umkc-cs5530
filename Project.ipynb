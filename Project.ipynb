{
  "cells": [
    {
      "cell_type": "code",
      "execution_count": null,
      "id": "d108868f",
      "metadata": {
        "colab": {
          "base_uri": "https://localhost:8080/",
          "height": 73
        },
        "id": "d108868f",
        "outputId": "6a30c61b-10f4-4183-abe4-5645f10e24b7"
      },
      "outputs": [
        {
          "output_type": "display_data",
          "data": {
            "text/plain": [
              "<IPython.core.display.HTML object>"
            ],
            "text/html": [
              "\n",
              "     <input type=\"file\" id=\"files-5471f50a-39e3-4597-9b59-7c46e63179ad\" name=\"files[]\" multiple disabled\n",
              "        style=\"border:none\" />\n",
              "     <output id=\"result-5471f50a-39e3-4597-9b59-7c46e63179ad\">\n",
              "      Upload widget is only available when the cell has been executed in the\n",
              "      current browser session. Please rerun this cell to enable.\n",
              "      </output>\n",
              "      <script>// Copyright 2017 Google LLC\n",
              "//\n",
              "// Licensed under the Apache License, Version 2.0 (the \"License\");\n",
              "// you may not use this file except in compliance with the License.\n",
              "// You may obtain a copy of the License at\n",
              "//\n",
              "//      http://www.apache.org/licenses/LICENSE-2.0\n",
              "//\n",
              "// Unless required by applicable law or agreed to in writing, software\n",
              "// distributed under the License is distributed on an \"AS IS\" BASIS,\n",
              "// WITHOUT WARRANTIES OR CONDITIONS OF ANY KIND, either express or implied.\n",
              "// See the License for the specific language governing permissions and\n",
              "// limitations under the License.\n",
              "\n",
              "/**\n",
              " * @fileoverview Helpers for google.colab Python module.\n",
              " */\n",
              "(function(scope) {\n",
              "function span(text, styleAttributes = {}) {\n",
              "  const element = document.createElement('span');\n",
              "  element.textContent = text;\n",
              "  for (const key of Object.keys(styleAttributes)) {\n",
              "    element.style[key] = styleAttributes[key];\n",
              "  }\n",
              "  return element;\n",
              "}\n",
              "\n",
              "// Max number of bytes which will be uploaded at a time.\n",
              "const MAX_PAYLOAD_SIZE = 100 * 1024;\n",
              "\n",
              "function _uploadFiles(inputId, outputId) {\n",
              "  const steps = uploadFilesStep(inputId, outputId);\n",
              "  const outputElement = document.getElementById(outputId);\n",
              "  // Cache steps on the outputElement to make it available for the next call\n",
              "  // to uploadFilesContinue from Python.\n",
              "  outputElement.steps = steps;\n",
              "\n",
              "  return _uploadFilesContinue(outputId);\n",
              "}\n",
              "\n",
              "// This is roughly an async generator (not supported in the browser yet),\n",
              "// where there are multiple asynchronous steps and the Python side is going\n",
              "// to poll for completion of each step.\n",
              "// This uses a Promise to block the python side on completion of each step,\n",
              "// then passes the result of the previous step as the input to the next step.\n",
              "function _uploadFilesContinue(outputId) {\n",
              "  const outputElement = document.getElementById(outputId);\n",
              "  const steps = outputElement.steps;\n",
              "\n",
              "  const next = steps.next(outputElement.lastPromiseValue);\n",
              "  return Promise.resolve(next.value.promise).then((value) => {\n",
              "    // Cache the last promise value to make it available to the next\n",
              "    // step of the generator.\n",
              "    outputElement.lastPromiseValue = value;\n",
              "    return next.value.response;\n",
              "  });\n",
              "}\n",
              "\n",
              "/**\n",
              " * Generator function which is called between each async step of the upload\n",
              " * process.\n",
              " * @param {string} inputId Element ID of the input file picker element.\n",
              " * @param {string} outputId Element ID of the output display.\n",
              " * @return {!Iterable<!Object>} Iterable of next steps.\n",
              " */\n",
              "function* uploadFilesStep(inputId, outputId) {\n",
              "  const inputElement = document.getElementById(inputId);\n",
              "  inputElement.disabled = false;\n",
              "\n",
              "  const outputElement = document.getElementById(outputId);\n",
              "  outputElement.innerHTML = '';\n",
              "\n",
              "  const pickedPromise = new Promise((resolve) => {\n",
              "    inputElement.addEventListener('change', (e) => {\n",
              "      resolve(e.target.files);\n",
              "    });\n",
              "  });\n",
              "\n",
              "  const cancel = document.createElement('button');\n",
              "  inputElement.parentElement.appendChild(cancel);\n",
              "  cancel.textContent = 'Cancel upload';\n",
              "  const cancelPromise = new Promise((resolve) => {\n",
              "    cancel.onclick = () => {\n",
              "      resolve(null);\n",
              "    };\n",
              "  });\n",
              "\n",
              "  // Wait for the user to pick the files.\n",
              "  const files = yield {\n",
              "    promise: Promise.race([pickedPromise, cancelPromise]),\n",
              "    response: {\n",
              "      action: 'starting',\n",
              "    }\n",
              "  };\n",
              "\n",
              "  cancel.remove();\n",
              "\n",
              "  // Disable the input element since further picks are not allowed.\n",
              "  inputElement.disabled = true;\n",
              "\n",
              "  if (!files) {\n",
              "    return {\n",
              "      response: {\n",
              "        action: 'complete',\n",
              "      }\n",
              "    };\n",
              "  }\n",
              "\n",
              "  for (const file of files) {\n",
              "    const li = document.createElement('li');\n",
              "    li.append(span(file.name, {fontWeight: 'bold'}));\n",
              "    li.append(span(\n",
              "        `(${file.type || 'n/a'}) - ${file.size} bytes, ` +\n",
              "        `last modified: ${\n",
              "            file.lastModifiedDate ? file.lastModifiedDate.toLocaleDateString() :\n",
              "                                    'n/a'} - `));\n",
              "    const percent = span('0% done');\n",
              "    li.appendChild(percent);\n",
              "\n",
              "    outputElement.appendChild(li);\n",
              "\n",
              "    const fileDataPromise = new Promise((resolve) => {\n",
              "      const reader = new FileReader();\n",
              "      reader.onload = (e) => {\n",
              "        resolve(e.target.result);\n",
              "      };\n",
              "      reader.readAsArrayBuffer(file);\n",
              "    });\n",
              "    // Wait for the data to be ready.\n",
              "    let fileData = yield {\n",
              "      promise: fileDataPromise,\n",
              "      response: {\n",
              "        action: 'continue',\n",
              "      }\n",
              "    };\n",
              "\n",
              "    // Use a chunked sending to avoid message size limits. See b/62115660.\n",
              "    let position = 0;\n",
              "    do {\n",
              "      const length = Math.min(fileData.byteLength - position, MAX_PAYLOAD_SIZE);\n",
              "      const chunk = new Uint8Array(fileData, position, length);\n",
              "      position += length;\n",
              "\n",
              "      const base64 = btoa(String.fromCharCode.apply(null, chunk));\n",
              "      yield {\n",
              "        response: {\n",
              "          action: 'append',\n",
              "          file: file.name,\n",
              "          data: base64,\n",
              "        },\n",
              "      };\n",
              "\n",
              "      let percentDone = fileData.byteLength === 0 ?\n",
              "          100 :\n",
              "          Math.round((position / fileData.byteLength) * 100);\n",
              "      percent.textContent = `${percentDone}% done`;\n",
              "\n",
              "    } while (position < fileData.byteLength);\n",
              "  }\n",
              "\n",
              "  // All done.\n",
              "  yield {\n",
              "    response: {\n",
              "      action: 'complete',\n",
              "    }\n",
              "  };\n",
              "}\n",
              "\n",
              "scope.google = scope.google || {};\n",
              "scope.google.colab = scope.google.colab || {};\n",
              "scope.google.colab._files = {\n",
              "  _uploadFiles,\n",
              "  _uploadFilesContinue,\n",
              "};\n",
              "})(self);\n",
              "</script> "
            ]
          },
          "metadata": {}
        },
        {
          "output_type": "stream",
          "name": "stdout",
          "text": [
            "Saving train.csv to train.csv\n"
          ]
        }
      ],
      "source": [
        "import pandas as pd\n",
        "import numpy as np\n",
        "import matplotlib.pyplot as plt\n",
        "\n",
        "from google.colab import files\n",
        "\n",
        "\n",
        "uploaded = files.upload()\n"
      ]
    },
    {
      "cell_type": "code",
      "source": [
        "\n",
        "import io\n",
        "\n",
        "data = pd.read_csv(io.BytesIO(uploaded['train.csv']))"
      ],
      "metadata": {
        "id": "JmE_i35XgA37"
      },
      "id": "JmE_i35XgA37",
      "execution_count": null,
      "outputs": []
    },
    {
      "cell_type": "code",
      "execution_count": null,
      "id": "b22c06d5",
      "metadata": {
        "colab": {
          "base_uri": "https://localhost:8080/",
          "height": 259
        },
        "id": "b22c06d5",
        "outputId": "ddc5963b-ac9b-4672-8f36-64c501612b47"
      },
      "outputs": [
        {
          "output_type": "execute_result",
          "data": {
            "text/plain": [
              "  Item_Identifier  Item_Weight Item_Fat_Content  Item_Visibility    Item_Type  \\\n",
              "0           FDA15         9.30          Low Fat         0.016047        Dairy   \n",
              "1           DRC01         5.92          Regular         0.019278  Soft Drinks   \n",
              "2           FDN15        17.50          Low Fat         0.016760         Meat   \n",
              "\n",
              "   Item_MRP Outlet_Identifier  Outlet_Establishment_Year Outlet_Size  \\\n",
              "0  249.8092            OUT049                       1999      Medium   \n",
              "1   48.2692            OUT018                       2009      Medium   \n",
              "2  141.6180            OUT049                       1999      Medium   \n",
              "\n",
              "  Outlet_Location_Type        Outlet_Type  Item_Outlet_Sales  \n",
              "0               Tier 1  Supermarket Type1          3735.1380  \n",
              "1               Tier 3  Supermarket Type2           443.4228  \n",
              "2               Tier 1  Supermarket Type1          2097.2700  "
            ],
            "text/html": [
              "\n",
              "  <div id=\"df-cbe3bdfe-6105-4caf-b6e4-fbce0bf49eb9\">\n",
              "    <div class=\"colab-df-container\">\n",
              "      <div>\n",
              "<style scoped>\n",
              "    .dataframe tbody tr th:only-of-type {\n",
              "        vertical-align: middle;\n",
              "    }\n",
              "\n",
              "    .dataframe tbody tr th {\n",
              "        vertical-align: top;\n",
              "    }\n",
              "\n",
              "    .dataframe thead th {\n",
              "        text-align: right;\n",
              "    }\n",
              "</style>\n",
              "<table border=\"1\" class=\"dataframe\">\n",
              "  <thead>\n",
              "    <tr style=\"text-align: right;\">\n",
              "      <th></th>\n",
              "      <th>Item_Identifier</th>\n",
              "      <th>Item_Weight</th>\n",
              "      <th>Item_Fat_Content</th>\n",
              "      <th>Item_Visibility</th>\n",
              "      <th>Item_Type</th>\n",
              "      <th>Item_MRP</th>\n",
              "      <th>Outlet_Identifier</th>\n",
              "      <th>Outlet_Establishment_Year</th>\n",
              "      <th>Outlet_Size</th>\n",
              "      <th>Outlet_Location_Type</th>\n",
              "      <th>Outlet_Type</th>\n",
              "      <th>Item_Outlet_Sales</th>\n",
              "    </tr>\n",
              "  </thead>\n",
              "  <tbody>\n",
              "    <tr>\n",
              "      <th>0</th>\n",
              "      <td>FDA15</td>\n",
              "      <td>9.30</td>\n",
              "      <td>Low Fat</td>\n",
              "      <td>0.016047</td>\n",
              "      <td>Dairy</td>\n",
              "      <td>249.8092</td>\n",
              "      <td>OUT049</td>\n",
              "      <td>1999</td>\n",
              "      <td>Medium</td>\n",
              "      <td>Tier 1</td>\n",
              "      <td>Supermarket Type1</td>\n",
              "      <td>3735.1380</td>\n",
              "    </tr>\n",
              "    <tr>\n",
              "      <th>1</th>\n",
              "      <td>DRC01</td>\n",
              "      <td>5.92</td>\n",
              "      <td>Regular</td>\n",
              "      <td>0.019278</td>\n",
              "      <td>Soft Drinks</td>\n",
              "      <td>48.2692</td>\n",
              "      <td>OUT018</td>\n",
              "      <td>2009</td>\n",
              "      <td>Medium</td>\n",
              "      <td>Tier 3</td>\n",
              "      <td>Supermarket Type2</td>\n",
              "      <td>443.4228</td>\n",
              "    </tr>\n",
              "    <tr>\n",
              "      <th>2</th>\n",
              "      <td>FDN15</td>\n",
              "      <td>17.50</td>\n",
              "      <td>Low Fat</td>\n",
              "      <td>0.016760</td>\n",
              "      <td>Meat</td>\n",
              "      <td>141.6180</td>\n",
              "      <td>OUT049</td>\n",
              "      <td>1999</td>\n",
              "      <td>Medium</td>\n",
              "      <td>Tier 1</td>\n",
              "      <td>Supermarket Type1</td>\n",
              "      <td>2097.2700</td>\n",
              "    </tr>\n",
              "  </tbody>\n",
              "</table>\n",
              "</div>\n",
              "      <button class=\"colab-df-convert\" onclick=\"convertToInteractive('df-cbe3bdfe-6105-4caf-b6e4-fbce0bf49eb9')\"\n",
              "              title=\"Convert this dataframe to an interactive table.\"\n",
              "              style=\"display:none;\">\n",
              "        \n",
              "  <svg xmlns=\"http://www.w3.org/2000/svg\" height=\"24px\"viewBox=\"0 0 24 24\"\n",
              "       width=\"24px\">\n",
              "    <path d=\"M0 0h24v24H0V0z\" fill=\"none\"/>\n",
              "    <path d=\"M18.56 5.44l.94 2.06.94-2.06 2.06-.94-2.06-.94-.94-2.06-.94 2.06-2.06.94zm-11 1L8.5 8.5l.94-2.06 2.06-.94-2.06-.94L8.5 2.5l-.94 2.06-2.06.94zm10 10l.94 2.06.94-2.06 2.06-.94-2.06-.94-.94-2.06-.94 2.06-2.06.94z\"/><path d=\"M17.41 7.96l-1.37-1.37c-.4-.4-.92-.59-1.43-.59-.52 0-1.04.2-1.43.59L10.3 9.45l-7.72 7.72c-.78.78-.78 2.05 0 2.83L4 21.41c.39.39.9.59 1.41.59.51 0 1.02-.2 1.41-.59l7.78-7.78 2.81-2.81c.8-.78.8-2.07 0-2.86zM5.41 20L4 18.59l7.72-7.72 1.47 1.35L5.41 20z\"/>\n",
              "  </svg>\n",
              "      </button>\n",
              "      \n",
              "  <style>\n",
              "    .colab-df-container {\n",
              "      display:flex;\n",
              "      flex-wrap:wrap;\n",
              "      gap: 12px;\n",
              "    }\n",
              "\n",
              "    .colab-df-convert {\n",
              "      background-color: #E8F0FE;\n",
              "      border: none;\n",
              "      border-radius: 50%;\n",
              "      cursor: pointer;\n",
              "      display: none;\n",
              "      fill: #1967D2;\n",
              "      height: 32px;\n",
              "      padding: 0 0 0 0;\n",
              "      width: 32px;\n",
              "    }\n",
              "\n",
              "    .colab-df-convert:hover {\n",
              "      background-color: #E2EBFA;\n",
              "      box-shadow: 0px 1px 2px rgba(60, 64, 67, 0.3), 0px 1px 3px 1px rgba(60, 64, 67, 0.15);\n",
              "      fill: #174EA6;\n",
              "    }\n",
              "\n",
              "    [theme=dark] .colab-df-convert {\n",
              "      background-color: #3B4455;\n",
              "      fill: #D2E3FC;\n",
              "    }\n",
              "\n",
              "    [theme=dark] .colab-df-convert:hover {\n",
              "      background-color: #434B5C;\n",
              "      box-shadow: 0px 1px 3px 1px rgba(0, 0, 0, 0.15);\n",
              "      filter: drop-shadow(0px 1px 2px rgba(0, 0, 0, 0.3));\n",
              "      fill: #FFFFFF;\n",
              "    }\n",
              "  </style>\n",
              "\n",
              "      <script>\n",
              "        const buttonEl =\n",
              "          document.querySelector('#df-cbe3bdfe-6105-4caf-b6e4-fbce0bf49eb9 button.colab-df-convert');\n",
              "        buttonEl.style.display =\n",
              "          google.colab.kernel.accessAllowed ? 'block' : 'none';\n",
              "\n",
              "        async function convertToInteractive(key) {\n",
              "          const element = document.querySelector('#df-cbe3bdfe-6105-4caf-b6e4-fbce0bf49eb9');\n",
              "          const dataTable =\n",
              "            await google.colab.kernel.invokeFunction('convertToInteractive',\n",
              "                                                     [key], {});\n",
              "          if (!dataTable) return;\n",
              "\n",
              "          const docLinkHtml = 'Like what you see? Visit the ' +\n",
              "            '<a target=\"_blank\" href=https://colab.research.google.com/notebooks/data_table.ipynb>data table notebook</a>'\n",
              "            + ' to learn more about interactive tables.';\n",
              "          element.innerHTML = '';\n",
              "          dataTable['output_type'] = 'display_data';\n",
              "          await google.colab.output.renderOutput(dataTable, element);\n",
              "          const docLink = document.createElement('div');\n",
              "          docLink.innerHTML = docLinkHtml;\n",
              "          element.appendChild(docLink);\n",
              "        }\n",
              "      </script>\n",
              "    </div>\n",
              "  </div>\n",
              "  "
            ]
          },
          "metadata": {},
          "execution_count": 4
        }
      ],
      "source": [
        "data.head(3)"
      ]
    },
    {
      "cell_type": "code",
      "execution_count": null,
      "id": "28c98e40",
      "metadata": {
        "colab": {
          "base_uri": "https://localhost:8080/",
          "height": 300
        },
        "id": "28c98e40",
        "outputId": "155840e5-af6f-464b-f2ce-55546d7492de"
      },
      "outputs": [
        {
          "output_type": "execute_result",
          "data": {
            "text/plain": [
              "       Item_Weight  Item_Visibility     Item_MRP  Outlet_Establishment_Year  \\\n",
              "count  7060.000000      8523.000000  8523.000000                8523.000000   \n",
              "mean     12.857645         0.066132   140.992782                1997.831867   \n",
              "std       4.643456         0.051598    62.275067                   8.371760   \n",
              "min       4.555000         0.000000    31.290000                1985.000000   \n",
              "25%       8.773750         0.026989    93.826500                1987.000000   \n",
              "50%      12.600000         0.053931   143.012800                1999.000000   \n",
              "75%      16.850000         0.094585   185.643700                2004.000000   \n",
              "max      21.350000         0.328391   266.888400                2009.000000   \n",
              "\n",
              "       Item_Outlet_Sales  \n",
              "count        8523.000000  \n",
              "mean         2181.288914  \n",
              "std          1706.499616  \n",
              "min            33.290000  \n",
              "25%           834.247400  \n",
              "50%          1794.331000  \n",
              "75%          3101.296400  \n",
              "max         13086.964800  "
            ],
            "text/html": [
              "\n",
              "  <div id=\"df-0e32ee33-5e4c-45a6-8aa9-c09547f5b158\">\n",
              "    <div class=\"colab-df-container\">\n",
              "      <div>\n",
              "<style scoped>\n",
              "    .dataframe tbody tr th:only-of-type {\n",
              "        vertical-align: middle;\n",
              "    }\n",
              "\n",
              "    .dataframe tbody tr th {\n",
              "        vertical-align: top;\n",
              "    }\n",
              "\n",
              "    .dataframe thead th {\n",
              "        text-align: right;\n",
              "    }\n",
              "</style>\n",
              "<table border=\"1\" class=\"dataframe\">\n",
              "  <thead>\n",
              "    <tr style=\"text-align: right;\">\n",
              "      <th></th>\n",
              "      <th>Item_Weight</th>\n",
              "      <th>Item_Visibility</th>\n",
              "      <th>Item_MRP</th>\n",
              "      <th>Outlet_Establishment_Year</th>\n",
              "      <th>Item_Outlet_Sales</th>\n",
              "    </tr>\n",
              "  </thead>\n",
              "  <tbody>\n",
              "    <tr>\n",
              "      <th>count</th>\n",
              "      <td>7060.000000</td>\n",
              "      <td>8523.000000</td>\n",
              "      <td>8523.000000</td>\n",
              "      <td>8523.000000</td>\n",
              "      <td>8523.000000</td>\n",
              "    </tr>\n",
              "    <tr>\n",
              "      <th>mean</th>\n",
              "      <td>12.857645</td>\n",
              "      <td>0.066132</td>\n",
              "      <td>140.992782</td>\n",
              "      <td>1997.831867</td>\n",
              "      <td>2181.288914</td>\n",
              "    </tr>\n",
              "    <tr>\n",
              "      <th>std</th>\n",
              "      <td>4.643456</td>\n",
              "      <td>0.051598</td>\n",
              "      <td>62.275067</td>\n",
              "      <td>8.371760</td>\n",
              "      <td>1706.499616</td>\n",
              "    </tr>\n",
              "    <tr>\n",
              "      <th>min</th>\n",
              "      <td>4.555000</td>\n",
              "      <td>0.000000</td>\n",
              "      <td>31.290000</td>\n",
              "      <td>1985.000000</td>\n",
              "      <td>33.290000</td>\n",
              "    </tr>\n",
              "    <tr>\n",
              "      <th>25%</th>\n",
              "      <td>8.773750</td>\n",
              "      <td>0.026989</td>\n",
              "      <td>93.826500</td>\n",
              "      <td>1987.000000</td>\n",
              "      <td>834.247400</td>\n",
              "    </tr>\n",
              "    <tr>\n",
              "      <th>50%</th>\n",
              "      <td>12.600000</td>\n",
              "      <td>0.053931</td>\n",
              "      <td>143.012800</td>\n",
              "      <td>1999.000000</td>\n",
              "      <td>1794.331000</td>\n",
              "    </tr>\n",
              "    <tr>\n",
              "      <th>75%</th>\n",
              "      <td>16.850000</td>\n",
              "      <td>0.094585</td>\n",
              "      <td>185.643700</td>\n",
              "      <td>2004.000000</td>\n",
              "      <td>3101.296400</td>\n",
              "    </tr>\n",
              "    <tr>\n",
              "      <th>max</th>\n",
              "      <td>21.350000</td>\n",
              "      <td>0.328391</td>\n",
              "      <td>266.888400</td>\n",
              "      <td>2009.000000</td>\n",
              "      <td>13086.964800</td>\n",
              "    </tr>\n",
              "  </tbody>\n",
              "</table>\n",
              "</div>\n",
              "      <button class=\"colab-df-convert\" onclick=\"convertToInteractive('df-0e32ee33-5e4c-45a6-8aa9-c09547f5b158')\"\n",
              "              title=\"Convert this dataframe to an interactive table.\"\n",
              "              style=\"display:none;\">\n",
              "        \n",
              "  <svg xmlns=\"http://www.w3.org/2000/svg\" height=\"24px\"viewBox=\"0 0 24 24\"\n",
              "       width=\"24px\">\n",
              "    <path d=\"M0 0h24v24H0V0z\" fill=\"none\"/>\n",
              "    <path d=\"M18.56 5.44l.94 2.06.94-2.06 2.06-.94-2.06-.94-.94-2.06-.94 2.06-2.06.94zm-11 1L8.5 8.5l.94-2.06 2.06-.94-2.06-.94L8.5 2.5l-.94 2.06-2.06.94zm10 10l.94 2.06.94-2.06 2.06-.94-2.06-.94-.94-2.06-.94 2.06-2.06.94z\"/><path d=\"M17.41 7.96l-1.37-1.37c-.4-.4-.92-.59-1.43-.59-.52 0-1.04.2-1.43.59L10.3 9.45l-7.72 7.72c-.78.78-.78 2.05 0 2.83L4 21.41c.39.39.9.59 1.41.59.51 0 1.02-.2 1.41-.59l7.78-7.78 2.81-2.81c.8-.78.8-2.07 0-2.86zM5.41 20L4 18.59l7.72-7.72 1.47 1.35L5.41 20z\"/>\n",
              "  </svg>\n",
              "      </button>\n",
              "      \n",
              "  <style>\n",
              "    .colab-df-container {\n",
              "      display:flex;\n",
              "      flex-wrap:wrap;\n",
              "      gap: 12px;\n",
              "    }\n",
              "\n",
              "    .colab-df-convert {\n",
              "      background-color: #E8F0FE;\n",
              "      border: none;\n",
              "      border-radius: 50%;\n",
              "      cursor: pointer;\n",
              "      display: none;\n",
              "      fill: #1967D2;\n",
              "      height: 32px;\n",
              "      padding: 0 0 0 0;\n",
              "      width: 32px;\n",
              "    }\n",
              "\n",
              "    .colab-df-convert:hover {\n",
              "      background-color: #E2EBFA;\n",
              "      box-shadow: 0px 1px 2px rgba(60, 64, 67, 0.3), 0px 1px 3px 1px rgba(60, 64, 67, 0.15);\n",
              "      fill: #174EA6;\n",
              "    }\n",
              "\n",
              "    [theme=dark] .colab-df-convert {\n",
              "      background-color: #3B4455;\n",
              "      fill: #D2E3FC;\n",
              "    }\n",
              "\n",
              "    [theme=dark] .colab-df-convert:hover {\n",
              "      background-color: #434B5C;\n",
              "      box-shadow: 0px 1px 3px 1px rgba(0, 0, 0, 0.15);\n",
              "      filter: drop-shadow(0px 1px 2px rgba(0, 0, 0, 0.3));\n",
              "      fill: #FFFFFF;\n",
              "    }\n",
              "  </style>\n",
              "\n",
              "      <script>\n",
              "        const buttonEl =\n",
              "          document.querySelector('#df-0e32ee33-5e4c-45a6-8aa9-c09547f5b158 button.colab-df-convert');\n",
              "        buttonEl.style.display =\n",
              "          google.colab.kernel.accessAllowed ? 'block' : 'none';\n",
              "\n",
              "        async function convertToInteractive(key) {\n",
              "          const element = document.querySelector('#df-0e32ee33-5e4c-45a6-8aa9-c09547f5b158');\n",
              "          const dataTable =\n",
              "            await google.colab.kernel.invokeFunction('convertToInteractive',\n",
              "                                                     [key], {});\n",
              "          if (!dataTable) return;\n",
              "\n",
              "          const docLinkHtml = 'Like what you see? Visit the ' +\n",
              "            '<a target=\"_blank\" href=https://colab.research.google.com/notebooks/data_table.ipynb>data table notebook</a>'\n",
              "            + ' to learn more about interactive tables.';\n",
              "          element.innerHTML = '';\n",
              "          dataTable['output_type'] = 'display_data';\n",
              "          await google.colab.output.renderOutput(dataTable, element);\n",
              "          const docLink = document.createElement('div');\n",
              "          docLink.innerHTML = docLinkHtml;\n",
              "          element.appendChild(docLink);\n",
              "        }\n",
              "      </script>\n",
              "    </div>\n",
              "  </div>\n",
              "  "
            ]
          },
          "metadata": {},
          "execution_count": 5
        }
      ],
      "source": [
        "data.describe()"
      ]
    },
    {
      "cell_type": "code",
      "execution_count": null,
      "id": "538a6c06",
      "metadata": {
        "colab": {
          "base_uri": "https://localhost:8080/"
        },
        "id": "538a6c06",
        "outputId": "06a2362a-6431-47d9-9950-e83d36cc4046"
      },
      "outputs": [
        {
          "output_type": "execute_result",
          "data": {
            "text/plain": [
              "(8523, 12)"
            ]
          },
          "metadata": {},
          "execution_count": 6
        }
      ],
      "source": [
        "data.shape"
      ]
    },
    {
      "cell_type": "code",
      "execution_count": null,
      "id": "f71570ce",
      "metadata": {
        "id": "f71570ce"
      },
      "outputs": [],
      "source": [
        "data.drop(['Item_Identifier','Outlet_Identifier'],axis=1, inplace=True)"
      ]
    },
    {
      "cell_type": "code",
      "execution_count": null,
      "id": "3bf0f7bc",
      "metadata": {
        "colab": {
          "base_uri": "https://localhost:8080/"
        },
        "id": "3bf0f7bc",
        "outputId": "5e9b471a-20fa-425b-a413-c852d9503469"
      },
      "outputs": [
        {
          "output_type": "stream",
          "name": "stdout",
          "text": [
            "Item_Fat_Content #: 5\n",
            "Item_Type #: 16\n",
            "Outlet_Establishment_Year #: 9\n",
            "Outlet_Size #: 3\n",
            "Outlet_Location_Type #: 3\n",
            "Outlet_Type #: 4\n"
          ]
        }
      ],
      "source": [
        "\n",
        "print(\"Item_Fat_Content #:\",data['Item_Fat_Content'].nunique())\n",
        "print(\"Item_Type #:\",data['Item_Type'].nunique())\n",
        "print(\"Outlet_Establishment_Year #:\",data['Outlet_Establishment_Year'].nunique())\n",
        "print(\"Outlet_Size #:\",data['Outlet_Size'].nunique())\n",
        "print(\"Outlet_Location_Type #:\",data['Outlet_Location_Type'].nunique())\n",
        "print(\"Outlet_Type #:\",data['Outlet_Type'].nunique())\n",
        "\n"
      ]
    },
    {
      "cell_type": "code",
      "source": [
        "plt.hist(data['Item_Fat_Content'])\n",
        "plt.show()"
      ],
      "metadata": {
        "colab": {
          "base_uri": "https://localhost:8080/",
          "height": 430
        },
        "id": "axKyB-D_NOPl",
        "outputId": "0a9b911a-e69c-4ea7-cea6-cf42b5c70808"
      },
      "id": "axKyB-D_NOPl",
      "execution_count": null,
      "outputs": [
        {
          "output_type": "display_data",
          "data": {
            "text/plain": [
              "<Figure size 640x480 with 1 Axes>"
            ],
            "image/png": "[encoded data removed]"
          },
          "metadata": {}
        }
      ]
    },
    {
      "cell_type": "code",
      "source": [
        "plt.hist(data['Item_Weight'].value_counts())\n",
        "plt.xlabel(\"Item_Weights\")\n",
        "plt.ylabel(\"Frequencies\")\n",
        "plt.show()"
      ],
      "metadata": {
        "colab": {
          "base_uri": "https://localhost:8080/",
          "height": 450
        },
        "id": "VBpetbZJOCp7",
        "outputId": "09a07015-dac9-4deb-da0e-6bf778ff144f"
      },
      "id": "VBpetbZJOCp7",
      "execution_count": null,
      "outputs": [
        {
          "output_type": "display_data",
          "data": {
            "text/plain": [
              "<Figure size 640x480 with 1 Axes>"
            ],
            "image/png": "[encoded data removed]"
          },
          "metadata": {}
        }
      ]
    },
    {
      "cell_type": "code",
      "source": [
        "data['Outlet_Size'].value_counts().plot(kind='bar',xlabel='Outlet_Size',ylabel='Frequency')"
      ],
      "metadata": {
        "colab": {
          "base_uri": "https://localhost:8080/",
          "height": 508
        },
        "id": "4RljTRCpNOo2",
        "outputId": "48431d3a-61d4-43f7-c400-f5561f55ce0f"
      },
      "id": "4RljTRCpNOo2",
      "execution_count": null,
      "outputs": [
        {
          "output_type": "execute_result",
          "data": {
            "text/plain": [
              "<Axes: xlabel='Outlet_Size', ylabel='Frequency'>"
            ]
          },
          "metadata": {},
          "execution_count": 11
        },
        {
          "output_type": "display_data",
          "data": {
            "text/plain": [
              "<Figure size 640x480 with 1 Axes>"
            ],
            "image/png": "[encoded data removed]"
          },
          "metadata": {}
        }
      ]
    },
    {
      "cell_type": "code",
      "execution_count": null,
      "id": "26d1a2ed",
      "metadata": {
        "colab": {
          "base_uri": "https://localhost:8080/"
        },
        "id": "26d1a2ed",
        "outputId": "9770e77d-ba50-4975-8e42-1861f18f341f"
      },
      "outputs": [
        {
          "output_type": "execute_result",
          "data": {
            "text/plain": [
              "Fruits and Vegetables    1232\n",
              "Snack Foods              1200\n",
              "Household                 910\n",
              "Frozen Foods              856\n",
              "Dairy                     682\n",
              "Canned                    649\n",
              "Baking Goods              648\n",
              "Health and Hygiene        520\n",
              "Soft Drinks               445\n",
              "Meat                      425\n",
              "Breads                    251\n",
              "Hard Drinks               214\n",
              "Others                    169\n",
              "Starchy Foods             148\n",
              "Breakfast                 110\n",
              "Seafood                    64\n",
              "Name: Item_Type, dtype: int64"
            ]
          },
          "metadata": {},
          "execution_count": 12
        }
      ],
      "source": [
        "data['Item_Type'].value_counts()"
      ]
    },
    {
      "cell_type": "code",
      "execution_count": null,
      "id": "1d772667",
      "metadata": {
        "colab": {
          "base_uri": "https://localhost:8080/"
        },
        "id": "1d772667",
        "outputId": "9a789651-6a0f-4e7b-a0f9-55a1f0fb56a8"
      },
      "outputs": [
        {
          "output_type": "execute_result",
          "data": {
            "text/plain": [
              "Supermarket Type1    5577\n",
              "Grocery Store        1083\n",
              "Supermarket Type3     935\n",
              "Supermarket Type2     928\n",
              "Name: Outlet_Type, dtype: int64"
            ]
          },
          "metadata": {},
          "execution_count": 13
        }
      ],
      "source": [
        "data['Outlet_Type'].value_counts()"
      ]
    },
    {
      "cell_type": "code",
      "execution_count": null,
      "id": "9ceb26aa",
      "metadata": {
        "colab": {
          "base_uri": "https://localhost:8080/"
        },
        "id": "9ceb26aa",
        "outputId": "a14c86b9-8d68-4ec3-f681-d8460a062ad3"
      },
      "outputs": [
        {
          "output_type": "execute_result",
          "data": {
            "text/plain": [
              "Low Fat    5089\n",
              "Regular    2889\n",
              "LF          316\n",
              "reg         117\n",
              "low fat     112\n",
              "Name: Item_Fat_Content, dtype: int64"
            ]
          },
          "metadata": {},
          "execution_count": 14
        }
      ],
      "source": [
        "data['Item_Fat_Content'].value_counts()\n"
      ]
    },
    {
      "cell_type": "code",
      "execution_count": null,
      "id": "6ce54a4d",
      "metadata": {
        "id": "6ce54a4d"
      },
      "outputs": [],
      "source": [
        "data['Item_Fat_Content']=data['Item_Fat_Content'].map({'Low Fat':'LowFat','Regular':'Regular','LF':'LowFat','reg':'Regular','low fat':'LowFat'})\n"
      ]
    },
    {
      "cell_type": "code",
      "execution_count": null,
      "id": "d2ccb2b5",
      "metadata": {
        "colab": {
          "base_uri": "https://localhost:8080/"
        },
        "id": "d2ccb2b5",
        "outputId": "d1914792-9bd4-4074-edfc-724662b5e003"
      },
      "outputs": [
        {
          "output_type": "execute_result",
          "data": {
            "text/plain": [
              "LowFat     5517\n",
              "Regular    3006\n",
              "Name: Item_Fat_Content, dtype: int64"
            ]
          },
          "metadata": {},
          "execution_count": 16
        }
      ],
      "source": [
        "data['Item_Fat_Content'].value_counts()"
      ]
    },
    {
      "cell_type": "code",
      "execution_count": null,
      "id": "13b7b7a9",
      "metadata": {
        "id": "13b7b7a9"
      },
      "outputs": [],
      "source": [
        "data['Item_Fat_Content']=data['Item_Fat_Content'].map({'LowFat':1,'Regular':0})"
      ]
    },
    {
      "cell_type": "code",
      "execution_count": null,
      "id": "ce2318d3",
      "metadata": {
        "colab": {
          "base_uri": "https://localhost:8080/",
          "height": 300
        },
        "id": "ce2318d3",
        "outputId": "68635db3-c037-4f17-969a-bd20724a0955"
      },
      "outputs": [
        {
          "output_type": "execute_result",
          "data": {
            "text/plain": [
              "       Item_Weight  Item_Fat_Content  Item_Visibility     Item_MRP  \\\n",
              "count  7060.000000       8523.000000      8523.000000  8523.000000   \n",
              "mean     12.857645          0.647307         0.066132   140.992782   \n",
              "std       4.643456          0.477836         0.051598    62.275067   \n",
              "min       4.555000          0.000000         0.000000    31.290000   \n",
              "25%       8.773750          0.000000         0.026989    93.826500   \n",
              "50%      12.600000          1.000000         0.053931   143.012800   \n",
              "75%      16.850000          1.000000         0.094585   185.643700   \n",
              "max      21.350000          1.000000         0.328391   266.888400   \n",
              "\n",
              "       Outlet_Establishment_Year  Item_Outlet_Sales  \n",
              "count                8523.000000        8523.000000  \n",
              "mean                 1997.831867        2181.288914  \n",
              "std                     8.371760        1706.499616  \n",
              "min                  1985.000000          33.290000  \n",
              "25%                  1987.000000         834.247400  \n",
              "50%                  1999.000000        1794.331000  \n",
              "75%                  2004.000000        3101.296400  \n",
              "max                  2009.000000       13086.964800  "
            ],
            "text/html": [
              "\n",
              "  <div id=\"df-a0e801b9-c6bb-4589-a415-77741ff09844\">\n",
              "    <div class=\"colab-df-container\">\n",
              "      <div>\n",
              "<style scoped>\n",
              "    .dataframe tbody tr th:only-of-type {\n",
              "        vertical-align: middle;\n",
              "    }\n",
              "\n",
              "    .dataframe tbody tr th {\n",
              "        vertical-align: top;\n",
              "    }\n",
              "\n",
              "    .dataframe thead th {\n",
              "        text-align: right;\n",
              "    }\n",
              "</style>\n",
              "<table border=\"1\" class=\"dataframe\">\n",
              "  <thead>\n",
              "    <tr style=\"text-align: right;\">\n",
              "      <th></th>\n",
              "      <th>Item_Weight</th>\n",
              "      <th>Item_Fat_Content</th>\n",
              "      <th>Item_Visibility</th>\n",
              "      <th>Item_MRP</th>\n",
              "      <th>Outlet_Establishment_Year</th>\n",
              "      <th>Item_Outlet_Sales</th>\n",
              "    </tr>\n",
              "  </thead>\n",
              "  <tbody>\n",
              "    <tr>\n",
              "      <th>count</th>\n",
              "      <td>7060.000000</td>\n",
              "      <td>8523.000000</td>\n",
              "      <td>8523.000000</td>\n",
              "      <td>8523.000000</td>\n",
              "      <td>8523.000000</td>\n",
              "      <td>8523.000000</td>\n",
              "    </tr>\n",
              "    <tr>\n",
              "      <th>mean</th>\n",
              "      <td>12.857645</td>\n",
              "      <td>0.647307</td>\n",
              "      <td>0.066132</td>\n",
              "      <td>140.992782</td>\n",
              "      <td>1997.831867</td>\n",
              "      <td>2181.288914</td>\n",
              "    </tr>\n",
              "    <tr>\n",
              "      <th>std</th>\n",
              "      <td>4.643456</td>\n",
              "      <td>0.477836</td>\n",
              "      <td>0.051598</td>\n",
              "      <td>62.275067</td>\n",
              "      <td>8.371760</td>\n",
              "      <td>1706.499616</td>\n",
              "    </tr>\n",
              "    <tr>\n",
              "      <th>min</th>\n",
              "      <td>4.555000</td>\n",
              "      <td>0.000000</td>\n",
              "      <td>0.000000</td>\n",
              "      <td>31.290000</td>\n",
              "      <td>1985.000000</td>\n",
              "      <td>33.290000</td>\n",
              "    </tr>\n",
              "    <tr>\n",
              "      <th>25%</th>\n",
              "      <td>8.773750</td>\n",
              "      <td>0.000000</td>\n",
              "      <td>0.026989</td>\n",
              "      <td>93.826500</td>\n",
              "      <td>1987.000000</td>\n",
              "      <td>834.247400</td>\n",
              "    </tr>\n",
              "    <tr>\n",
              "      <th>50%</th>\n",
              "      <td>12.600000</td>\n",
              "      <td>1.000000</td>\n",
              "      <td>0.053931</td>\n",
              "      <td>143.012800</td>\n",
              "      <td>1999.000000</td>\n",
              "      <td>1794.331000</td>\n",
              "    </tr>\n",
              "    <tr>\n",
              "      <th>75%</th>\n",
              "      <td>16.850000</td>\n",
              "      <td>1.000000</td>\n",
              "      <td>0.094585</td>\n",
              "      <td>185.643700</td>\n",
              "      <td>2004.000000</td>\n",
              "      <td>3101.296400</td>\n",
              "    </tr>\n",
              "    <tr>\n",
              "      <th>max</th>\n",
              "      <td>21.350000</td>\n",
              "      <td>1.000000</td>\n",
              "      <td>0.328391</td>\n",
              "      <td>266.888400</td>\n",
              "      <td>2009.000000</td>\n",
              "      <td>13086.964800</td>\n",
              "    </tr>\n",
              "  </tbody>\n",
              "</table>\n",
              "</div>\n",
              "      <button class=\"colab-df-convert\" onclick=\"convertToInteractive('df-a0e801b9-c6bb-4589-a415-77741ff09844')\"\n",
              "              title=\"Convert this dataframe to an interactive table.\"\n",
              "              style=\"display:none;\">\n",
              "        \n",
              "  <svg xmlns=\"http://www.w3.org/2000/svg\" height=\"24px\"viewBox=\"0 0 24 24\"\n",
              "       width=\"24px\">\n",
              "    <path d=\"M0 0h24v24H0V0z\" fill=\"none\"/>\n",
              "    <path d=\"M18.56 5.44l.94 2.06.94-2.06 2.06-.94-2.06-.94-.94-2.06-.94 2.06-2.06.94zm-11 1L8.5 8.5l.94-2.06 2.06-.94-2.06-.94L8.5 2.5l-.94 2.06-2.06.94zm10 10l.94 2.06.94-2.06 2.06-.94-2.06-.94-.94-2.06-.94 2.06-2.06.94z\"/><path d=\"M17.41 7.96l-1.37-1.37c-.4-.4-.92-.59-1.43-.59-.52 0-1.04.2-1.43.59L10.3 9.45l-7.72 7.72c-.78.78-.78 2.05 0 2.83L4 21.41c.39.39.9.59 1.41.59.51 0 1.02-.2 1.41-.59l7.78-7.78 2.81-2.81c.8-.78.8-2.07 0-2.86zM5.41 20L4 18.59l7.72-7.72 1.47 1.35L5.41 20z\"/>\n",
              "  </svg>\n",
              "      </button>\n",
              "      \n",
              "  <style>\n",
              "    .colab-df-container {\n",
              "      display:flex;\n",
              "      flex-wrap:wrap;\n",
              "      gap: 12px;\n",
              "    }\n",
              "\n",
              "    .colab-df-convert {\n",
              "      background-color: #E8F0FE;\n",
              "      border: none;\n",
              "      border-radius: 50%;\n",
              "      cursor: pointer;\n",
              "      display: none;\n",
              "      fill: #1967D2;\n",
              "      height: 32px;\n",
              "      padding: 0 0 0 0;\n",
              "      width: 32px;\n",
              "    }\n",
              "\n",
              "    .colab-df-convert:hover {\n",
              "      background-color: #E2EBFA;\n",
              "      box-shadow: 0px 1px 2px rgba(60, 64, 67, 0.3), 0px 1px 3px 1px rgba(60, 64, 67, 0.15);\n",
              "      fill: #174EA6;\n",
              "    }\n",
              "\n",
              "    [theme=dark] .colab-df-convert {\n",
              "      background-color: #3B4455;\n",
              "      fill: #D2E3FC;\n",
              "    }\n",
              "\n",
              "    [theme=dark] .colab-df-convert:hover {\n",
              "      background-color: #434B5C;\n",
              "      box-shadow: 0px 1px 3px 1px rgba(0, 0, 0, 0.15);\n",
              "      filter: drop-shadow(0px 1px 2px rgba(0, 0, 0, 0.3));\n",
              "      fill: #FFFFFF;\n",
              "    }\n",
              "  </style>\n",
              "\n",
              "      <script>\n",
              "        const buttonEl =\n",
              "          document.querySelector('#df-a0e801b9-c6bb-4589-a415-77741ff09844 button.colab-df-convert');\n",
              "        buttonEl.style.display =\n",
              "          google.colab.kernel.accessAllowed ? 'block' : 'none';\n",
              "\n",
              "        async function convertToInteractive(key) {\n",
              "          const element = document.querySelector('#df-a0e801b9-c6bb-4589-a415-77741ff09844');\n",
              "          const dataTable =\n",
              "            await google.colab.kernel.invokeFunction('convertToInteractive',\n",
              "                                                     [key], {});\n",
              "          if (!dataTable) return;\n",
              "\n",
              "          const docLinkHtml = 'Like what you see? Visit the ' +\n",
              "            '<a target=\"_blank\" href=https://colab.research.google.com/notebooks/data_table.ipynb>data table notebook</a>'\n",
              "            + ' to learn more about interactive tables.';\n",
              "          element.innerHTML = '';\n",
              "          dataTable['output_type'] = 'display_data';\n",
              "          await google.colab.output.renderOutput(dataTable, element);\n",
              "          const docLink = document.createElement('div');\n",
              "          docLink.innerHTML = docLinkHtml;\n",
              "          element.appendChild(docLink);\n",
              "        }\n",
              "      </script>\n",
              "    </div>\n",
              "  </div>\n",
              "  "
            ]
          },
          "metadata": {},
          "execution_count": 18
        }
      ],
      "source": [
        "data.describe()"
      ]
    },
    {
      "cell_type": "code",
      "execution_count": null,
      "id": "bac0325e",
      "metadata": {
        "colab": {
          "base_uri": "https://localhost:8080/"
        },
        "id": "bac0325e",
        "outputId": "30124016-100a-49fe-8554-80bb0cb72002"
      },
      "outputs": [
        {
          "output_type": "execute_result",
          "data": {
            "text/plain": [
              "Item_Weight                  1463\n",
              "Item_Fat_Content                0\n",
              "Item_Visibility                 0\n",
              "Item_Type                       0\n",
              "Item_MRP                        0\n",
              "Outlet_Establishment_Year       0\n",
              "Outlet_Size                  2410\n",
              "Outlet_Location_Type            0\n",
              "Outlet_Type                     0\n",
              "Item_Outlet_Sales               0\n",
              "dtype: int64"
            ]
          },
          "metadata": {},
          "execution_count": 19
        }
      ],
      "source": [
        "data.isnull().sum()"
      ]
    },
    {
      "cell_type": "code",
      "execution_count": null,
      "id": "85a5858c",
      "metadata": {
        "id": "85a5858c"
      },
      "outputs": [],
      "source": [
        "data['Item_Weight'].fillna(data['Item_Weight'].mean(),inplace=True)"
      ]
    },
    {
      "cell_type": "code",
      "execution_count": null,
      "id": "8eb9e6c1",
      "metadata": {
        "colab": {
          "base_uri": "https://localhost:8080/",
          "height": 80
        },
        "id": "8eb9e6c1",
        "outputId": "febb5149-9fe9-4b0f-fe7c-39da9d071903"
      },
      "outputs": [
        {
          "output_type": "execute_result",
          "data": {
            "text/plain": [
              "Outlet_Type Grocery Store Supermarket Type1 Supermarket Type2  \\\n",
              "Outlet_Size         Small             Small            Medium   \n",
              "\n",
              "Outlet_Type Supermarket Type3  \n",
              "Outlet_Size            Medium  "
            ],
            "text/html": [
              "\n",
              "  <div id=\"df-4a9d690e-9c75-4d09-ad9e-9cf598f4d061\">\n",
              "    <div class=\"colab-df-container\">\n",
              "      <div>\n",
              "<style scoped>\n",
              "    .dataframe tbody tr th:only-of-type {\n",
              "        vertical-align: middle;\n",
              "    }\n",
              "\n",
              "    .dataframe tbody tr th {\n",
              "        vertical-align: top;\n",
              "    }\n",
              "\n",
              "    .dataframe thead th {\n",
              "        text-align: right;\n",
              "    }\n",
              "</style>\n",
              "<table border=\"1\" class=\"dataframe\">\n",
              "  <thead>\n",
              "    <tr style=\"text-align: right;\">\n",
              "      <th>Outlet_Type</th>\n",
              "      <th>Grocery Store</th>\n",
              "      <th>Supermarket Type1</th>\n",
              "      <th>Supermarket Type2</th>\n",
              "      <th>Supermarket Type3</th>\n",
              "    </tr>\n",
              "  </thead>\n",
              "  <tbody>\n",
              "    <tr>\n",
              "      <th>Outlet_Size</th>\n",
              "      <td>Small</td>\n",
              "      <td>Small</td>\n",
              "      <td>Medium</td>\n",
              "      <td>Medium</td>\n",
              "    </tr>\n",
              "  </tbody>\n",
              "</table>\n",
              "</div>\n",
              "      <button class=\"colab-df-convert\" onclick=\"convertToInteractive('df-4a9d690e-9c75-4d09-ad9e-9cf598f4d061')\"\n",
              "              title=\"Convert this dataframe to an interactive table.\"\n",
              "              style=\"display:none;\">\n",
              "        \n",
              "  <svg xmlns=\"http://www.w3.org/2000/svg\" height=\"24px\"viewBox=\"0 0 24 24\"\n",
              "       width=\"24px\">\n",
              "    <path d=\"M0 0h24v24H0V0z\" fill=\"none\"/>\n",
              "    <path d=\"M18.56 5.44l.94 2.06.94-2.06 2.06-.94-2.06-.94-.94-2.06-.94 2.06-2.06.94zm-11 1L8.5 8.5l.94-2.06 2.06-.94-2.06-.94L8.5 2.5l-.94 2.06-2.06.94zm10 10l.94 2.06.94-2.06 2.06-.94-2.06-.94-.94-2.06-.94 2.06-2.06.94z\"/><path d=\"M17.41 7.96l-1.37-1.37c-.4-.4-.92-.59-1.43-.59-.52 0-1.04.2-1.43.59L10.3 9.45l-7.72 7.72c-.78.78-.78 2.05 0 2.83L4 21.41c.39.39.9.59 1.41.59.51 0 1.02-.2 1.41-.59l7.78-7.78 2.81-2.81c.8-.78.8-2.07 0-2.86zM5.41 20L4 18.59l7.72-7.72 1.47 1.35L5.41 20z\"/>\n",
              "  </svg>\n",
              "      </button>\n",
              "      \n",
              "  <style>\n",
              "    .colab-df-container {\n",
              "      display:flex;\n",
              "      flex-wrap:wrap;\n",
              "      gap: 12px;\n",
              "    }\n",
              "\n",
              "    .colab-df-convert {\n",
              "      background-color: #E8F0FE;\n",
              "      border: none;\n",
              "      border-radius: 50%;\n",
              "      cursor: pointer;\n",
              "      display: none;\n",
              "      fill: #1967D2;\n",
              "      height: 32px;\n",
              "      padding: 0 0 0 0;\n",
              "      width: 32px;\n",
              "    }\n",
              "\n",
              "    .colab-df-convert:hover {\n",
              "      background-color: #E2EBFA;\n",
              "      box-shadow: 0px 1px 2px rgba(60, 64, 67, 0.3), 0px 1px 3px 1px rgba(60, 64, 67, 0.15);\n",
              "      fill: #174EA6;\n",
              "    }\n",
              "\n",
              "    [theme=dark] .colab-df-convert {\n",
              "      background-color: #3B4455;\n",
              "      fill: #D2E3FC;\n",
              "    }\n",
              "\n",
              "    [theme=dark] .colab-df-convert:hover {\n",
              "      background-color: #434B5C;\n",
              "      box-shadow: 0px 1px 3px 1px rgba(0, 0, 0, 0.15);\n",
              "      filter: drop-shadow(0px 1px 2px rgba(0, 0, 0, 0.3));\n",
              "      fill: #FFFFFF;\n",
              "    }\n",
              "  </style>\n",
              "\n",
              "      <script>\n",
              "        const buttonEl =\n",
              "          document.querySelector('#df-4a9d690e-9c75-4d09-ad9e-9cf598f4d061 button.colab-df-convert');\n",
              "        buttonEl.style.display =\n",
              "          google.colab.kernel.accessAllowed ? 'block' : 'none';\n",
              "\n",
              "        async function convertToInteractive(key) {\n",
              "          const element = document.querySelector('#df-4a9d690e-9c75-4d09-ad9e-9cf598f4d061');\n",
              "          const dataTable =\n",
              "            await google.colab.kernel.invokeFunction('convertToInteractive',\n",
              "                                                     [key], {});\n",
              "          if (!dataTable) return;\n",
              "\n",
              "          const docLinkHtml = 'Like what you see? Visit the ' +\n",
              "            '<a target=\"_blank\" href=https://colab.research.google.com/notebooks/data_table.ipynb>data table notebook</a>'\n",
              "            + ' to learn more about interactive tables.';\n",
              "          element.innerHTML = '';\n",
              "          dataTable['output_type'] = 'display_data';\n",
              "          await google.colab.output.renderOutput(dataTable, element);\n",
              "          const docLink = document.createElement('div');\n",
              "          docLink.innerHTML = docLinkHtml;\n",
              "          element.appendChild(docLink);\n",
              "        }\n",
              "      </script>\n",
              "    </div>\n",
              "  </div>\n",
              "  "
            ]
          },
          "metadata": {},
          "execution_count": 21
        }
      ],
      "source": [
        "# getting mode based on outlet_type\n",
        "OutletSize_mode = data.pivot_table(values='Outlet_Size',columns='Outlet_Type',aggfunc=lambda x: x.mode())\n",
        "OutletSize_mode"
      ]
    },
    {
      "cell_type": "code",
      "execution_count": null,
      "id": "8848b5f1",
      "metadata": {
        "id": "8848b5f1"
      },
      "outputs": [],
      "source": [
        "# fill null values using the mode per oulet_type\n",
        "missing_values = data['Outlet_Size'].isnull()\n",
        "data.loc[missing_values, 'Outlet_Size'] = data.loc[missing_values, 'Outlet_Type'].apply(lambda x: OutletSize_mode[x].Outlet_Size)\n"
      ]
    },
    {
      "cell_type": "code",
      "execution_count": null,
      "id": "59fe112d",
      "metadata": {
        "id": "59fe112d"
      },
      "outputs": [],
      "source": [
        "#data['Outlet_Size'].fillna('Medium',inplace=True)"
      ]
    },
    {
      "cell_type": "code",
      "execution_count": null,
      "id": "2e686056",
      "metadata": {
        "colab": {
          "base_uri": "https://localhost:8080/"
        },
        "id": "2e686056",
        "outputId": "d2091651-8e0a-4645-dfbc-7a54a3764ea9"
      },
      "outputs": [
        {
          "output_type": "stream",
          "name": "stdout",
          "text": [
            "0    Small\n",
            "Name: Outlet_Size, dtype: object\n"
          ]
        }
      ],
      "source": [
        "print(data['Outlet_Size'].mode())"
      ]
    },
    {
      "cell_type": "markdown",
      "source": [
        "## ANOVA Tests"
      ],
      "metadata": {
        "id": "KaZik-_avUSv"
      },
      "id": "KaZik-_avUSv"
    },
    {
      "cell_type": "code",
      "source": [
        "import scipy.stats as stats\n",
        "\n",
        "print(data['Outlet_Size'].unique())\n",
        "print(data['Outlet_Type'].unique())\n",
        "print(data['Outlet_Location_Type'].unique())\n",
        "print(data['Item_Fat_Content'].unique())"
      ],
      "metadata": {
        "colab": {
          "base_uri": "https://localhost:8080/"
        },
        "id": "QEXkKmgVvaBQ",
        "outputId": "f5eab9db-f018-47a6-fc6f-30f5b08ec5f2"
      },
      "id": "QEXkKmgVvaBQ",
      "execution_count": null,
      "outputs": [
        {
          "output_type": "stream",
          "name": "stdout",
          "text": [
            "['Medium' 'Small' 'High']\n",
            "['Supermarket Type1' 'Supermarket Type2' 'Grocery Store'\n",
            " 'Supermarket Type3']\n",
            "['Tier 1' 'Tier 3' 'Tier 2']\n",
            "[1 0]\n"
          ]
        }
      ]
    },
    {
      "cell_type": "code",
      "source": [
        "#ANOVA test for Outlet Size\n",
        "stats.f_oneway(data['Item_Outlet_Sales'][data['Outlet_Size'] == 'Medium'],\n",
        "               data['Item_Outlet_Sales'][data['Outlet_Size'] == 'Small'],\n",
        "               data['Item_Outlet_Sales'][data['Outlet_Size'] == 'High'])"
      ],
      "metadata": {
        "colab": {
          "base_uri": "https://localhost:8080/"
        },
        "id": "qmgg01ATvezD",
        "outputId": "043c42d0-7b73-471f-90ac-6ba7a1dc00cd"
      },
      "id": "qmgg01ATvezD",
      "execution_count": null,
      "outputs": [
        {
          "output_type": "execute_result",
          "data": {
            "text/plain": [
              "F_onewayResult(statistic=213.69096479853798, pvalue=2.8042418281729364e-91)"
            ]
          },
          "metadata": {},
          "execution_count": 26
        }
      ]
    },
    {
      "cell_type": "code",
      "source": [
        "#Since the p-value of this ANOVA test is 2.8042418281729364e-91 (less than 0.05);\n",
        "#we can reject null hypothesis which states each group's('Medium' 'Small' 'High') mean is equal.\n",
        "#This concludes we cannot eliminate this variable from our estimation of the Item_Outlet_Sales."
      ],
      "metadata": {
        "id": "P8DxYF3pviIr"
      },
      "id": "P8DxYF3pviIr",
      "execution_count": null,
      "outputs": []
    },
    {
      "cell_type": "code",
      "source": [
        "#ANOVA test for Outlet Type\n",
        "stats.f_oneway(data['Item_Outlet_Sales'][data['Outlet_Type'] == 'Grocery Store'],\n",
        "               data['Item_Outlet_Sales'][data['Outlet_Type'] == 'Supermarket Type1'],\n",
        "               data['Item_Outlet_Sales'][data['Outlet_Type'] == 'Supermarket Type2'],\n",
        "               data['Item_Outlet_Sales'][data['Outlet_Type'] == 'Supermarket Type3'])"
      ],
      "metadata": {
        "colab": {
          "base_uri": "https://localhost:8080/"
        },
        "id": "N0Hlc5hgvkO9",
        "outputId": "9a578a58-4de7-4e49-8966-3bc1d2d8c520"
      },
      "id": "N0Hlc5hgvkO9",
      "execution_count": null,
      "outputs": [
        {
          "output_type": "execute_result",
          "data": {
            "text/plain": [
              "F_onewayResult(statistic=894.6500119018012, pvalue=0.0)"
            ]
          },
          "metadata": {},
          "execution_count": 28
        }
      ]
    },
    {
      "cell_type": "code",
      "source": [
        "#Since the p-value of this ANOVA test is zero (less than 0.05);\n",
        "#we can reject null hypothesis which states each group's ('Supermarket Type1' 'Supermarket Type2' 'Grocery Store', 'Supermarket Type3') mean is equal.\n",
        "#This concludes we cannot eliminate this variable from our estimation of the Item_Outlet_Sales."
      ],
      "metadata": {
        "id": "bQSIkfkNvqe3"
      },
      "id": "bQSIkfkNvqe3",
      "execution_count": null,
      "outputs": []
    },
    {
      "cell_type": "code",
      "source": [
        "#ANOVA test for Outlet Location Type\n",
        "stats.f_oneway(data['Item_Outlet_Sales'][data['Outlet_Location_Type'] == 'Tier 1'],\n",
        "               data['Item_Outlet_Sales'][data['Outlet_Location_Type'] == 'Tier 2'],\n",
        "               data['Item_Outlet_Sales'][data['Outlet_Location_Type'] == 'Tier 3'])"
      ],
      "metadata": {
        "colab": {
          "base_uri": "https://localhost:8080/"
        },
        "id": "ixLY64ravrJl",
        "outputId": "1d6de461-4e09-44a0-a75f-a9d7e2cb99ef"
      },
      "id": "ixLY64ravrJl",
      "execution_count": null,
      "outputs": [
        {
          "output_type": "execute_result",
          "data": {
            "text/plain": [
              "F_onewayResult(statistic=53.947739874560675, pvalue=5.2228172988842975e-24)"
            ]
          },
          "metadata": {},
          "execution_count": 30
        }
      ]
    },
    {
      "cell_type": "code",
      "source": [
        "#Since the p-value of this ANOVA test is 5.2228172988842975e-24 (less than 0.05);\n",
        "#we can reject null hypothesis which states each group's ('Tier 1' 'Tier 3' 'Tier 2') mean is equal.\n",
        "#This concludes we cannot eliminate this variable from our estimation of the Item_Outlet_Sales."
      ],
      "metadata": {
        "id": "adzJbO_4vtxZ"
      },
      "id": "adzJbO_4vtxZ",
      "execution_count": null,
      "outputs": []
    },
    {
      "cell_type": "code",
      "source": [
        "#ANOVA test for Item_Fat_Content --- 1 means LowFat and 0 means Regular\n",
        "stats.f_oneway(data['Item_Outlet_Sales'][data['Item_Fat_Content'] == 1],\n",
        "               data['Item_Outlet_Sales'][data['Item_Fat_Content'] == 0])\n"
      ],
      "metadata": {
        "colab": {
          "base_uri": "https://localhost:8080/"
        },
        "id": "2DVbmxNWvwQ2",
        "outputId": "e1b48bd5-a714-4828-bb65-e4199a973fbe"
      },
      "id": "2DVbmxNWvwQ2",
      "execution_count": null,
      "outputs": [
        {
          "output_type": "execute_result",
          "data": {
            "text/plain": [
              "F_onewayResult(statistic=2.98666429015733, pvalue=0.08398916967694944)"
            ]
          },
          "metadata": {},
          "execution_count": 32
        }
      ]
    },
    {
      "cell_type": "code",
      "source": [
        "#Since the p-value of this ANOVA test is 0.08398916967694944 (more than 0.05);\n",
        "#we can accept null hypothesis which states each group's (1 or 'LowFat' , 0 or 'Regular') mean is equal.\n",
        "#This concludes we can eliminate this variable from our estimation of the Item_Outlet_Sales."
      ],
      "metadata": {
        "id": "AdkDcfQwv66m"
      },
      "id": "AdkDcfQwv66m",
      "execution_count": null,
      "outputs": []
    },
    {
      "cell_type": "markdown",
      "source": [
        "## Mann-Whitney U Test"
      ],
      "metadata": {
        "id": "RQ85wBg4C5Zz"
      },
      "id": "RQ85wBg4C5Zz"
    },
    {
      "cell_type": "code",
      "source": [
        "#Mann-Whitney U Test\n",
        "# create separate dataframes for low fat and regular item_fat_content categories\n",
        "# data2=data.groupby(['Item_Fat_Content'])\n",
        "# print(data2.head(7))\n",
        "low_fat_sales = data[data['Item_Fat_Content']==1]['Item_Outlet_Sales']\n",
        "regular_sales = data[data['Item_Fat_Content']==0]['Item_Outlet_Sales']\n",
        "\n",
        "\n",
        "stat, p = stats.mannwhitneyu(low_fat_sales, regular_sales)\n",
        "\n",
        "print('Mann-Whitney U test statistic:', stat)\n",
        "print('p-value:', p)\n",
        "\n",
        "alpha = 0.05\n",
        "if p > alpha:\n",
        "    print('Failed to reject null hypothesis. There is no significant difference in median sales between low fat and regular item_fat_content categories.')\n",
        "else:\n",
        "    print('Reject null hypothesis. There is a significant difference in median sales between low fat and regular item_fat_content categories.')\n"
      ],
      "metadata": {
        "id": "tzVCcaJK8eyC",
        "colab": {
          "base_uri": "https://localhost:8080/"
        },
        "outputId": "244b0b45-3680-4096-d302-27e1160253c0"
      },
      "execution_count": null,
      "outputs": [
        {
          "output_type": "stream",
          "name": "stdout",
          "text": [
            "Mann-Whitney U test statistic: 8103818.0\n",
            "p-value: 0.08286955791693564\n",
            "Failed to reject null hypothesis. There is no significant difference in median sales between low fat and regular item_fat_content categories.\n"
          ]
        }
      ],
      "id": "tzVCcaJK8eyC"
    },
    {
      "cell_type": "markdown",
      "id": "507292c1",
      "metadata": {
        "id": "507292c1"
      },
      "source": [
        "## Converting Categorical Variables"
      ]
    },
    {
      "cell_type": "code",
      "execution_count": null,
      "id": "c142aa3a",
      "metadata": {
        "id": "c142aa3a"
      },
      "outputs": [],
      "source": [
        "dummyData=pd.get_dummies(data[['Item_Type']], prefix=['IType'], drop_first=True)"
      ]
    },
    {
      "cell_type": "code",
      "execution_count": null,
      "id": "41cddfe6",
      "metadata": {
        "id": "41cddfe6"
      },
      "outputs": [],
      "source": [
        "from sklearn.preprocessing import OrdinalEncoder\n",
        "enc = OrdinalEncoder()\n",
        "ordinal_df=pd.DataFrame(enc.fit_transform(data[['Outlet_Size','Outlet_Location_Type', 'Outlet_Type']]))"
      ]
    },
    {
      "cell_type": "code",
      "execution_count": null,
      "id": "101c32c6",
      "metadata": {
        "id": "101c32c6"
      },
      "outputs": [],
      "source": [
        "data.drop(['Item_Type','Outlet_Size','Outlet_Location_Type','Outlet_Type'],axis=1,inplace=True)"
      ]
    },
    {
      "cell_type": "code",
      "execution_count": null,
      "id": "e8d4ba85",
      "metadata": {
        "id": "e8d4ba85"
      },
      "outputs": [],
      "source": [
        "ordinal_df=ordinal_df.rename({0: 'Outlet_Size', 1: 'Outlet_Location_Type', 2:'Outlet_Type'},axis=1)"
      ]
    },
    {
      "cell_type": "code",
      "execution_count": null,
      "id": "10be8a7e",
      "metadata": {
        "id": "10be8a7e"
      },
      "outputs": [],
      "source": [
        "df = pd.concat([data, dummyData, ordinal_df], axis=1)"
      ]
    },
    {
      "cell_type": "code",
      "execution_count": null,
      "id": "6e4daeab",
      "metadata": {
        "colab": {
          "base_uri": "https://localhost:8080/"
        },
        "id": "6e4daeab",
        "outputId": "480ed0f2-8749-4eb9-9a2f-e74876a27373"
      },
      "outputs": [
        {
          "output_type": "execute_result",
          "data": {
            "text/plain": [
              "(8523, 15)"
            ]
          },
          "metadata": {},
          "execution_count": 40
        }
      ],
      "source": [
        "dummyData.shape"
      ]
    },
    {
      "cell_type": "code",
      "execution_count": null,
      "id": "bdc12886",
      "metadata": {
        "colab": {
          "base_uri": "https://localhost:8080/"
        },
        "id": "bdc12886",
        "outputId": "f87e4922-dd69-4be8-a926-7f4ee59a02f3"
      },
      "outputs": [
        {
          "output_type": "execute_result",
          "data": {
            "text/plain": [
              "array(['Outlet_Size', 'Outlet_Location_Type', 'Outlet_Type'], dtype=object)"
            ]
          },
          "metadata": {},
          "execution_count": 41
        }
      ],
      "source": [
        "ordinal_df.columns.values"
      ]
    },
    {
      "cell_type": "code",
      "execution_count": null,
      "id": "99794e5f",
      "metadata": {
        "colab": {
          "base_uri": "https://localhost:8080/",
          "height": 317
        },
        "id": "99794e5f",
        "outputId": "0f32f19e-84d5-4d86-b1e6-49d7935f6b69"
      },
      "outputs": [
        {
          "output_type": "execute_result",
          "data": {
            "text/plain": [
              "   Item_Weight  Item_Fat_Content  Item_Visibility  Item_MRP  \\\n",
              "0         9.30                 1         0.016047  249.8092   \n",
              "1         5.92                 0         0.019278   48.2692   \n",
              "2        17.50                 1         0.016760  141.6180   \n",
              "3        19.20                 0         0.000000  182.0950   \n",
              "4         8.93                 1         0.000000   53.8614   \n",
              "\n",
              "   Outlet_Establishment_Year  Item_Outlet_Sales  IType_Breads  \\\n",
              "0                       1999          3735.1380             0   \n",
              "1                       2009           443.4228             0   \n",
              "2                       1999          2097.2700             0   \n",
              "3                       1998           732.3800             0   \n",
              "4                       1987           994.7052             0   \n",
              "\n",
              "   IType_Breakfast  IType_Canned  IType_Dairy  ...  IType_Household  \\\n",
              "0                0             0            1  ...                0   \n",
              "1                0             0            0  ...                0   \n",
              "2                0             0            0  ...                0   \n",
              "3                0             0            0  ...                0   \n",
              "4                0             0            0  ...                1   \n",
              "\n",
              "   IType_Meat  IType_Others  IType_Seafood  IType_Snack Foods  \\\n",
              "0           0             0              0                  0   \n",
              "1           0             0              0                  0   \n",
              "2           1             0              0                  0   \n",
              "3           0             0              0                  0   \n",
              "4           0             0              0                  0   \n",
              "\n",
              "   IType_Soft Drinks  IType_Starchy Foods  Outlet_Size  Outlet_Location_Type  \\\n",
              "0                  0                    0          1.0                   0.0   \n",
              "1                  1                    0          1.0                   2.0   \n",
              "2                  0                    0          1.0                   0.0   \n",
              "3                  0                    0          2.0                   2.0   \n",
              "4                  0                    0          0.0                   2.0   \n",
              "\n",
              "   Outlet_Type  \n",
              "0          1.0  \n",
              "1          2.0  \n",
              "2          1.0  \n",
              "3          0.0  \n",
              "4          1.0  \n",
              "\n",
              "[5 rows x 24 columns]"
            ],
            "text/html": [
              "\n",
              "  <div id=\"df-672d83bf-99b1-4a25-9e2a-dabc4d4d1406\">\n",
              "    <div class=\"colab-df-container\">\n",
              "      <div>\n",
              "<style scoped>\n",
              "    .dataframe tbody tr th:only-of-type {\n",
              "        vertical-align: middle;\n",
              "    }\n",
              "\n",
              "    .dataframe tbody tr th {\n",
              "        vertical-align: top;\n",
              "    }\n",
              "\n",
              "    .dataframe thead th {\n",
              "        text-align: right;\n",
              "    }\n",
              "</style>\n",
              "<table border=\"1\" class=\"dataframe\">\n",
              "  <thead>\n",
              "    <tr style=\"text-align: right;\">\n",
              "      <th></th>\n",
              "      <th>Item_Weight</th>\n",
              "      <th>Item_Fat_Content</th>\n",
              "      <th>Item_Visibility</th>\n",
              "      <th>Item_MRP</th>\n",
              "      <th>Outlet_Establishment_Year</th>\n",
              "      <th>Item_Outlet_Sales</th>\n",
              "      <th>IType_Breads</th>\n",
              "      <th>IType_Breakfast</th>\n",
              "      <th>IType_Canned</th>\n",
              "      <th>IType_Dairy</th>\n",
              "      <th>...</th>\n",
              "      <th>IType_Household</th>\n",
              "      <th>IType_Meat</th>\n",
              "      <th>IType_Others</th>\n",
              "      <th>IType_Seafood</th>\n",
              "      <th>IType_Snack Foods</th>\n",
              "      <th>IType_Soft Drinks</th>\n",
              "      <th>IType_Starchy Foods</th>\n",
              "      <th>Outlet_Size</th>\n",
              "      <th>Outlet_Location_Type</th>\n",
              "      <th>Outlet_Type</th>\n",
              "    </tr>\n",
              "  </thead>\n",
              "  <tbody>\n",
              "    <tr>\n",
              "      <th>0</th>\n",
              "      <td>9.30</td>\n",
              "      <td>1</td>\n",
              "      <td>0.016047</td>\n",
              "      <td>249.8092</td>\n",
              "      <td>1999</td>\n",
              "      <td>3735.1380</td>\n",
              "      <td>0</td>\n",
              "      <td>0</td>\n",
              "      <td>0</td>\n",
              "      <td>1</td>\n",
              "      <td>...</td>\n",
              "      <td>0</td>\n",
              "      <td>0</td>\n",
              "      <td>0</td>\n",
              "      <td>0</td>\n",
              "      <td>0</td>\n",
              "      <td>0</td>\n",
              "      <td>0</td>\n",
              "      <td>1.0</td>\n",
              "      <td>0.0</td>\n",
              "      <td>1.0</td>\n",
              "    </tr>\n",
              "    <tr>\n",
              "      <th>1</th>\n",
              "      <td>5.92</td>\n",
              "      <td>0</td>\n",
              "      <td>0.019278</td>\n",
              "      <td>48.2692</td>\n",
              "      <td>2009</td>\n",
              "      <td>443.4228</td>\n",
              "      <td>0</td>\n",
              "      <td>0</td>\n",
              "      <td>0</td>\n",
              "      <td>0</td>\n",
              "      <td>...</td>\n",
              "      <td>0</td>\n",
              "      <td>0</td>\n",
              "      <td>0</td>\n",
              "      <td>0</td>\n",
              "      <td>0</td>\n",
              "      <td>1</td>\n",
              "      <td>0</td>\n",
              "      <td>1.0</td>\n",
              "      <td>2.0</td>\n",
              "      <td>2.0</td>\n",
              "    </tr>\n",
              "    <tr>\n",
              "      <th>2</th>\n",
              "      <td>17.50</td>\n",
              "      <td>1</td>\n",
              "      <td>0.016760</td>\n",
              "      <td>141.6180</td>\n",
              "      <td>1999</td>\n",
              "      <td>2097.2700</td>\n",
              "      <td>0</td>\n",
              "      <td>0</td>\n",
              "      <td>0</td>\n",
              "      <td>0</td>\n",
              "      <td>...</td>\n",
              "      <td>0</td>\n",
              "      <td>1</td>\n",
              "      <td>0</td>\n",
              "      <td>0</td>\n",
              "      <td>0</td>\n",
              "      <td>0</td>\n",
              "      <td>0</td>\n",
              "      <td>1.0</td>\n",
              "      <td>0.0</td>\n",
              "      <td>1.0</td>\n",
              "    </tr>\n",
              "    <tr>\n",
              "      <th>3</th>\n",
              "      <td>19.20</td>\n",
              "      <td>0</td>\n",
              "      <td>0.000000</td>\n",
              "      <td>182.0950</td>\n",
              "      <td>1998</td>\n",
              "      <td>732.3800</td>\n",
              "      <td>0</td>\n",
              "      <td>0</td>\n",
              "      <td>0</td>\n",
              "      <td>0</td>\n",
              "      <td>...</td>\n",
              "      <td>0</td>\n",
              "      <td>0</td>\n",
              "      <td>0</td>\n",
              "      <td>0</td>\n",
              "      <td>0</td>\n",
              "      <td>0</td>\n",
              "      <td>0</td>\n",
              "      <td>2.0</td>\n",
              "      <td>2.0</td>\n",
              "      <td>0.0</td>\n",
              "    </tr>\n",
              "    <tr>\n",
              "      <th>4</th>\n",
              "      <td>8.93</td>\n",
              "      <td>1</td>\n",
              "      <td>0.000000</td>\n",
              "      <td>53.8614</td>\n",
              "      <td>1987</td>\n",
              "      <td>994.7052</td>\n",
              "      <td>0</td>\n",
              "      <td>0</td>\n",
              "      <td>0</td>\n",
              "      <td>0</td>\n",
              "      <td>...</td>\n",
              "      <td>1</td>\n",
              "      <td>0</td>\n",
              "      <td>0</td>\n",
              "      <td>0</td>\n",
              "      <td>0</td>\n",
              "      <td>0</td>\n",
              "      <td>0</td>\n",
              "      <td>0.0</td>\n",
              "      <td>2.0</td>\n",
              "      <td>1.0</td>\n",
              "    </tr>\n",
              "  </tbody>\n",
              "</table>\n",
              "<p>5 rows × 24 columns</p>\n",
              "</div>\n",
              "      <button class=\"colab-df-convert\" onclick=\"convertToInteractive('df-672d83bf-99b1-4a25-9e2a-dabc4d4d1406')\"\n",
              "              title=\"Convert this dataframe to an interactive table.\"\n",
              "              style=\"display:none;\">\n",
              "        \n",
              "  <svg xmlns=\"http://www.w3.org/2000/svg\" height=\"24px\"viewBox=\"0 0 24 24\"\n",
              "       width=\"24px\">\n",
              "    <path d=\"M0 0h24v24H0V0z\" fill=\"none\"/>\n",
              "    <path d=\"M18.56 5.44l.94 2.06.94-2.06 2.06-.94-2.06-.94-.94-2.06-.94 2.06-2.06.94zm-11 1L8.5 8.5l.94-2.06 2.06-.94-2.06-.94L8.5 2.5l-.94 2.06-2.06.94zm10 10l.94 2.06.94-2.06 2.06-.94-2.06-.94-.94-2.06-.94 2.06-2.06.94z\"/><path d=\"M17.41 7.96l-1.37-1.37c-.4-.4-.92-.59-1.43-.59-.52 0-1.04.2-1.43.59L10.3 9.45l-7.72 7.72c-.78.78-.78 2.05 0 2.83L4 21.41c.39.39.9.59 1.41.59.51 0 1.02-.2 1.41-.59l7.78-7.78 2.81-2.81c.8-.78.8-2.07 0-2.86zM5.41 20L4 18.59l7.72-7.72 1.47 1.35L5.41 20z\"/>\n",
              "  </svg>\n",
              "      </button>\n",
              "      \n",
              "  <style>\n",
              "    .colab-df-container {\n",
              "      display:flex;\n",
              "      flex-wrap:wrap;\n",
              "      gap: 12px;\n",
              "    }\n",
              "\n",
              "    .colab-df-convert {\n",
              "      background-color: #E8F0FE;\n",
              "      border: none;\n",
              "      border-radius: 50%;\n",
              "      cursor: pointer;\n",
              "      display: none;\n",
              "      fill: #1967D2;\n",
              "      height: 32px;\n",
              "      padding: 0 0 0 0;\n",
              "      width: 32px;\n",
              "    }\n",
              "\n",
              "    .colab-df-convert:hover {\n",
              "      background-color: #E2EBFA;\n",
              "      box-shadow: 0px 1px 2px rgba(60, 64, 67, 0.3), 0px 1px 3px 1px rgba(60, 64, 67, 0.15);\n",
              "      fill: #174EA6;\n",
              "    }\n",
              "\n",
              "    [theme=dark] .colab-df-convert {\n",
              "      background-color: #3B4455;\n",
              "      fill: #D2E3FC;\n",
              "    }\n",
              "\n",
              "    [theme=dark] .colab-df-convert:hover {\n",
              "      background-color: #434B5C;\n",
              "      box-shadow: 0px 1px 3px 1px rgba(0, 0, 0, 0.15);\n",
              "      filter: drop-shadow(0px 1px 2px rgba(0, 0, 0, 0.3));\n",
              "      fill: #FFFFFF;\n",
              "    }\n",
              "  </style>\n",
              "\n",
              "      <script>\n",
              "        const buttonEl =\n",
              "          document.querySelector('#df-672d83bf-99b1-4a25-9e2a-dabc4d4d1406 button.colab-df-convert');\n",
              "        buttonEl.style.display =\n",
              "          google.colab.kernel.accessAllowed ? 'block' : 'none';\n",
              "\n",
              "        async function convertToInteractive(key) {\n",
              "          const element = document.querySelector('#df-672d83bf-99b1-4a25-9e2a-dabc4d4d1406');\n",
              "          const dataTable =\n",
              "            await google.colab.kernel.invokeFunction('convertToInteractive',\n",
              "                                                     [key], {});\n",
              "          if (!dataTable) return;\n",
              "\n",
              "          const docLinkHtml = 'Like what you see? Visit the ' +\n",
              "            '<a target=\"_blank\" href=https://colab.research.google.com/notebooks/data_table.ipynb>data table notebook</a>'\n",
              "            + ' to learn more about interactive tables.';\n",
              "          element.innerHTML = '';\n",
              "          dataTable['output_type'] = 'display_data';\n",
              "          await google.colab.output.renderOutput(dataTable, element);\n",
              "          const docLink = document.createElement('div');\n",
              "          docLink.innerHTML = docLinkHtml;\n",
              "          element.appendChild(docLink);\n",
              "        }\n",
              "      </script>\n",
              "    </div>\n",
              "  </div>\n",
              "  "
            ]
          },
          "metadata": {},
          "execution_count": 42
        }
      ],
      "source": [
        "df.head(5)"
      ]
    },
    {
      "cell_type": "code",
      "execution_count": null,
      "id": "d106e92d",
      "metadata": {
        "colab": {
          "base_uri": "https://localhost:8080/"
        },
        "id": "d106e92d",
        "outputId": "851f0637-741e-4156-85ac-0d98cab92257"
      },
      "outputs": [
        {
          "output_type": "execute_result",
          "data": {
            "text/plain": [
              "array(['Item_Weight', 'Item_Fat_Content', 'Item_Visibility', 'Item_MRP',\n",
              "       'Outlet_Establishment_Year', 'Item_Outlet_Sales', 'IType_Breads',\n",
              "       'IType_Breakfast', 'IType_Canned', 'IType_Dairy',\n",
              "       'IType_Frozen Foods', 'IType_Fruits and Vegetables',\n",
              "       'IType_Hard Drinks', 'IType_Health and Hygiene', 'IType_Household',\n",
              "       'IType_Meat', 'IType_Others', 'IType_Seafood', 'IType_Snack Foods',\n",
              "       'IType_Soft Drinks', 'IType_Starchy Foods', 'Outlet_Size',\n",
              "       'Outlet_Location_Type', 'Outlet_Type'], dtype=object)"
            ]
          },
          "metadata": {},
          "execution_count": 43
        }
      ],
      "source": [
        "df.columns.values"
      ]
    },
    {
      "cell_type": "code",
      "execution_count": null,
      "id": "c4642828",
      "metadata": {
        "colab": {
          "base_uri": "https://localhost:8080/"
        },
        "id": "c4642828",
        "outputId": "504cf7be-88bc-48fe-d938-438d61f72c43"
      },
      "outputs": [
        {
          "output_type": "execute_result",
          "data": {
            "text/plain": [
              "Item_Weight                    0\n",
              "Item_Fat_Content               0\n",
              "Item_Visibility                0\n",
              "Item_MRP                       0\n",
              "Outlet_Establishment_Year      0\n",
              "Item_Outlet_Sales              0\n",
              "IType_Breads                   0\n",
              "IType_Breakfast                0\n",
              "IType_Canned                   0\n",
              "IType_Dairy                    0\n",
              "IType_Frozen Foods             0\n",
              "IType_Fruits and Vegetables    0\n",
              "IType_Hard Drinks              0\n",
              "IType_Health and Hygiene       0\n",
              "IType_Household                0\n",
              "IType_Meat                     0\n",
              "IType_Others                   0\n",
              "IType_Seafood                  0\n",
              "IType_Snack Foods              0\n",
              "IType_Soft Drinks              0\n",
              "IType_Starchy Foods            0\n",
              "Outlet_Size                    0\n",
              "Outlet_Location_Type           0\n",
              "Outlet_Type                    0\n",
              "dtype: int64"
            ]
          },
          "metadata": {},
          "execution_count": 44
        }
      ],
      "source": [
        "df.isnull().sum()"
      ]
    },
    {
      "cell_type": "markdown",
      "source": [
        "## Visualizations"
      ],
      "metadata": {
        "id": "2mxHC8sY1nqE"
      },
      "id": "2mxHC8sY1nqE"
    },
    {
      "cell_type": "code",
      "source": [
        "plt.scatter(data['Item_Weight'],data['Item_Outlet_Sales'])\n",
        "plt.title(\"Item_Weight vs. Item_Outlet_Sales\")\n",
        "plt.ylabel(\"Item_Outlet_Sales\")\n",
        "plt.xlabel(\"Item_Weight\")\n",
        "plt.show()\n"
      ],
      "metadata": {
        "colab": {
          "base_uri": "https://localhost:8080/",
          "height": 472
        },
        "id": "PywFuYSu1rMD",
        "outputId": "5810eb63-a36c-4dc0-91ea-7ac30fe4b00f"
      },
      "id": "PywFuYSu1rMD",
      "execution_count": null,
      "outputs": [
        {
          "output_type": "display_data",
          "data": {
            "text/plain": [
              "<Figure size 640x480 with 1 Axes>"
            ],
            "image/png": "[encoded data removed]"
          },
          "metadata": {}
        }
      ]
    },
    {
      "cell_type": "code",
      "source": [
        "plt.scatter(data['Item_Visibility'],data['Item_Outlet_Sales'])\n",
        "plt.title(\"Item_Visibility vs. Item_Outlet_Sales\")\n",
        "plt.ylabel(\"Item_Outlet_Sales\")\n",
        "plt.xlabel(\"Item_Visibility\")\n",
        "plt.show()"
      ],
      "metadata": {
        "colab": {
          "base_uri": "https://localhost:8080/",
          "height": 472
        },
        "id": "7hi3B7mU11Pe",
        "outputId": "dd9fc8a6-1a5f-4ce0-b37e-dbdcc8a8191a"
      },
      "id": "7hi3B7mU11Pe",
      "execution_count": null,
      "outputs": [
        {
          "output_type": "display_data",
          "data": {
            "text/plain": [
              "<Figure size 640x480 with 1 Axes>"
            ],
            "image/png": "[encoded data removed]"
          },
          "metadata": {}
        }
      ]
    },
    {
      "cell_type": "markdown",
      "source": [
        "## Fitting a model"
      ],
      "metadata": {
        "id": "d_gNZ0heA0ly"
      },
      "id": "d_gNZ0heA0ly"
    },
    {
      "cell_type": "code",
      "source": [
        "X= df.loc[:, df.columns != 'Item_Outlet_Sales']\n",
        "y= df['Item_Outlet_Sales']"
      ],
      "metadata": {
        "id": "2m1brRi75imZ"
      },
      "id": "2m1brRi75imZ",
      "execution_count": null,
      "outputs": []
    },
    {
      "cell_type": "code",
      "source": [
        "from sklearn.utils.fixes import sklearn\n",
        "from sklearn.linear_model import LinearRegression\n",
        "from sklearn.model_selection import train_test_split\n",
        "from sklearn.metrics import mean_squared_error\n",
        "from sklearn.metrics import r2_score\n",
        "from sklearn.metrics import mean_absolute_error\n",
        "r_squared =[]\n",
        "mae=[]\n",
        "rmse=[]\n",
        "labels = ['Linear Regression', 'Random Forest', 'Decision Tree', 'SVR', 'ANN']\n",
        "\n",
        "X_train, X_test, y_train, y_test = train_test_split(X,y, train_size=0.8,random_state=42)\n",
        "model = LinearRegression()\n",
        "model.fit(X_train,y_train)\n",
        "\n",
        "y_pred = model.predict(X_test)\n",
        "\n",
        "linear_r_squared = r2_score(y_test, y_pred)\n",
        "r_squared.append(linear_r_squared)\n",
        "\n",
        "linear_mae = mean_absolute_error(y_test, y_pred)\n",
        "mae.append(linear_mae)\n",
        "\n",
        "linear_rmse = mean_squared_error(y_test, y_pred, squared=False)\n",
        "rmse.append(linear_rmse)\n",
        "\n",
        "print(\"R^2 value = \", linear_r_squared)\n",
        "print(\"MAE = \",linear_mae)\n",
        "print(\"RMSE = \",linear_rmse)"
      ],
      "metadata": {
        "id": "uBLRh5Cm5wfi",
        "colab": {
          "base_uri": "https://localhost:8080/"
        },
        "outputId": "f766c3ae-df3d-403d-da5b-3f56d53b2f98"
      },
      "id": "uBLRh5Cm5wfi",
      "execution_count": null,
      "outputs": [
        {
          "output_type": "stream",
          "name": "stdout",
          "text": [
            "R^2 value =  0.5174269803412366\n",
            "RMSE =  1145.2593690467509\n"
          ]
        }
      ]
    },
    {
      "cell_type": "code",
      "source": [
        "from sklearn.ensemble import RandomForestRegressor\n",
        "from sklearn.metrics import mean_squared_error, r2_score\n",
        "from sklearn.metrics import mean_absolute_error\n",
        "rf_regressor = RandomForestRegressor(n_estimators = 10, random_state = 0)\n",
        "\n",
        "rf_regressor.fit(X_train,y_train)\n",
        "\n",
        "y_pred = rf_regressor.predict(X_test)\n",
        "\n",
        "rf_r_squared = r2_score(y_test, y_pred)\n",
        "r_squared.append(rf_r_squared)\n",
        "\n",
        "rf_mae = mean_absolute_error(y_test, y_pred)\n",
        "mae.append(rf_mae)\n",
        "\n",
        "rf_rmse = mean_squared_error(y_test, y_pred, squared=False)\n",
        "rmse.append(rf_rmse)\n",
        "\n",
        "print(\"R^2 value = \", r2_score(y_test, y_pred))\n",
        "print(\"RMSE = \",mean_squared_error(y_test, y_pred, squared=False))\n",
        "print(\"MAE = \",mean_absolute_error(y_test, y_pred))"
      ],
      "metadata": {
        "colab": {
          "base_uri": "https://localhost:8080/"
        },
        "id": "BrA8CE5ydYj3",
        "outputId": "ee23cfa3-6520-48c3-c7aa-844b679fa7bb"
      },
      "id": "BrA8CE5ydYj3",
      "execution_count": null,
      "outputs": [
        {
          "output_type": "stream",
          "name": "stdout",
          "text": [
            "R^2 value =  0.5168645481225291\n",
            "RMSE =  1145.926566724199\n",
            "MAE =  804.6019228152494\n"
          ]
        }
      ]
    },
    {
      "cell_type": "code",
      "source": [
        "from sklearn.tree import DecisionTreeRegressor\n",
        "dt_regressor = DecisionTreeRegressor(random_state = 0)\n",
        "\n",
        "\n",
        "dt_regressor.fit(X_train,y_train)\n",
        "\n",
        "y_pred = dt_regressor.predict(X_test)\n",
        "\n",
        "dt_r_squared = r2_score(y_test, y_pred)\n",
        "r_squared.append(dt_r_squared)\n",
        "\n",
        "dt_mae = mean_absolute_error(y_test, y_pred)\n",
        "mae.append(dt_mae)\n",
        "\n",
        "dt_rmse = mean_squared_error(y_test, y_pred, squared=False)\n",
        "rmse.append(dt_rmse)\n",
        "\n",
        "print(\"R^2 value = \", r2_score(y_test, y_pred))\n",
        "\n",
        "print(\"RMSE = \",mean_squared_error(y_test, y_pred, squared=False))\n",
        "\n",
        "print(\"MAE = \",mean_absolute_error(y_test, y_pred))"
      ],
      "metadata": {
        "colab": {
          "base_uri": "https://localhost:8080/"
        },
        "id": "HS2OW3PXddxG",
        "outputId": "9210e245-9d10-4f75-b353-761d679e9d8d"
      },
      "id": "HS2OW3PXddxG",
      "execution_count": null,
      "outputs": [
        {
          "output_type": "stream",
          "name": "stdout",
          "text": [
            "R^2 value =  0.14600081208868398\n",
            "RMSE =  1523.5301866579298\n",
            "MAE =  1054.5537862756598\n"
          ]
        }
      ]
    },
    {
      "cell_type": "code",
      "source": [
        "from sklearn.svm import SVR\n",
        "svr_regressor = SVR(kernel = 'sigmoid')\n",
        "\n",
        "svr_regressor.fit(X_train,y_train)\n",
        "\n",
        "y_pred = svr_regressor.predict(X_test)\n",
        "\n",
        "svr_r_squared = r2_score(y_test, y_pred)\n",
        "r_squared.append(svr_r_squared)\n",
        "\n",
        "svr_mae = mean_absolute_error(y_test, y_pred)\n",
        "mae.append(svr_mae)\n",
        "\n",
        "svr_rmse = mean_squared_error(y_test, y_pred, squared=False)\n",
        "rmse.append(svr_rmse)\n",
        "\n",
        "print(\"R^2 value = \", r2_score(y_test, y_pred))\n",
        "\n",
        "print(\"RMSE = \",mean_squared_error(y_test, y_pred, squared=False))\n",
        "\n",
        "print(\"MAE = \",mean_absolute_error(y_test, y_pred))"
      ],
      "metadata": {
        "colab": {
          "base_uri": "https://localhost:8080/"
        },
        "id": "1zSjxo6qdeLF",
        "outputId": "4a0e903e-5353-4b9c-f405-b0c02137e4d4"
      },
      "id": "1zSjxo6qdeLF",
      "execution_count": null,
      "outputs": [
        {
          "output_type": "stream",
          "name": "stdout",
          "text": [
            "R^2 value =  0.09594511766544767\n",
            "RMSE =  1567.5439734706063\n",
            "MAE =  1178.7763640441387\n"
          ]
        }
      ]
    },
    {
      "cell_type": "code",
      "source": [
        "import pandas as pd\n",
        "from sklearn.model_selection import train_test_split\n",
        "from sklearn.preprocessing import StandardScaler\n",
        "from keras.models import Sequential\n",
        "from keras.layers import Dense\n",
        "\n",
        "sc = StandardScaler()\n",
        "X_train = sc.fit_transform(X_train)\n",
        "X_test = sc.transform(X_test)\n",
        "\n",
        "ann_model = Sequential()\n",
        "ann_model.add(Dense(units=6, kernel_initializer='uniform', activation='relu'))\n",
        "ann_model.add(Dense(units=6, kernel_initializer='uniform', activation='relu'))\n",
        "ann_model.add(Dense(units=1, kernel_initializer='uniform', activation='linear'))\n",
        "\n",
        "ann_model.compile(optimizer='adam', loss='mean_squared_error')\n",
        "\n",
        "ann_model.fit(X_train, y_train, batch_size=15, epochs=50)\n",
        "\n",
        "y_pred = ann_model.predict(X_test)\n",
        "\n",
        "score = ann_model.evaluate(X_test, y_test)\n",
        "print('Test loss:', score)\n",
        "\n",
        "ann_r2 = r2_score(y_test, y_pred)\n",
        "\n",
        "r_squared.append(ann_r2)\n",
        "\n",
        "ann_mae = mean_absolute_error(y_test, y_pred)\n",
        "mae.append(ann_mae)\n",
        "\n",
        "ann_rmse = mean_squared_error(y_test, y_pred, squared=False)\n",
        "rmse.append(ann_rmse)\n",
        "\n",
        "print(f\"R-squared: {ann_r2}\")\n",
        "print(f\"RMSE: {ann_rmse}\")\n",
        "print(\"MAE = \",{ann_mae})\n"
      ],
      "metadata": {
        "colab": {
          "base_uri": "https://localhost:8080/"
        },
        "id": "whzV-dy0djz5",
        "outputId": "3d468c61-d814-4eaa-dcae-ac3ec65e1856"
      },
      "id": "whzV-dy0djz5",
      "execution_count": null,
      "outputs": [
        {
          "output_type": "stream",
          "name": "stdout",
          "text": [
            "Epoch 1/50\n",
            "455/455 [==============================] - 2s 2ms/step - loss: 7778421.5000\n",
            "Epoch 2/50\n",
            "455/455 [==============================] - 1s 2ms/step - loss: 7303669.0000\n",
            "Epoch 3/50\n",
            "455/455 [==============================] - 1s 2ms/step - loss: 5989181.5000\n",
            "Epoch 4/50\n",
            "455/455 [==============================] - 1s 2ms/step - loss: 4291337.0000\n",
            "Epoch 5/50\n",
            "455/455 [==============================] - 1s 3ms/step - loss: 2960703.5000\n",
            "Epoch 6/50\n",
            "455/455 [==============================] - 1s 3ms/step - loss: 2223205.5000\n",
            "Epoch 7/50\n",
            "455/455 [==============================] - 1s 2ms/step - loss: 1899072.1250\n",
            "Epoch 8/50\n",
            "455/455 [==============================] - 1s 2ms/step - loss: 1761161.5000\n",
            "Epoch 9/50\n",
            "455/455 [==============================] - 1s 2ms/step - loss: 1688441.0000\n",
            "Epoch 10/50\n",
            "455/455 [==============================] - 1s 2ms/step - loss: 1642853.0000\n",
            "Epoch 11/50\n",
            "455/455 [==============================] - 1s 2ms/step - loss: 1610651.6250\n",
            "Epoch 12/50\n",
            "455/455 [==============================] - 1s 2ms/step - loss: 1587622.8750\n",
            "Epoch 13/50\n",
            "455/455 [==============================] - 1s 2ms/step - loss: 1570959.1250\n",
            "Epoch 14/50\n",
            "455/455 [==============================] - 1s 2ms/step - loss: 1557881.7500\n",
            "Epoch 15/50\n",
            "455/455 [==============================] - 1s 2ms/step - loss: 1547549.0000\n",
            "Epoch 16/50\n",
            "455/455 [==============================] - 1s 2ms/step - loss: 1540417.2500\n",
            "Epoch 17/50\n",
            "455/455 [==============================] - 1s 2ms/step - loss: 1534448.3750\n",
            "Epoch 18/50\n",
            "455/455 [==============================] - 1s 3ms/step - loss: 1529750.7500\n",
            "Epoch 19/50\n",
            "455/455 [==============================] - 1s 3ms/step - loss: 1526016.5000\n",
            "Epoch 20/50\n",
            "455/455 [==============================] - 1s 2ms/step - loss: 1522615.1250\n",
            "Epoch 21/50\n",
            "455/455 [==============================] - 1s 2ms/step - loss: 1519636.3750\n",
            "Epoch 22/50\n",
            "455/455 [==============================] - 1s 2ms/step - loss: 1517199.7500\n",
            "Epoch 23/50\n",
            "455/455 [==============================] - 1s 2ms/step - loss: 1515212.5000\n",
            "Epoch 24/50\n",
            "455/455 [==============================] - 1s 2ms/step - loss: 1513227.5000\n",
            "Epoch 25/50\n",
            "455/455 [==============================] - 1s 2ms/step - loss: 1511652.2500\n",
            "Epoch 26/50\n",
            "455/455 [==============================] - 1s 2ms/step - loss: 1510094.5000\n",
            "Epoch 27/50\n",
            "455/455 [==============================] - 1s 2ms/step - loss: 1508405.1250\n",
            "Epoch 28/50\n",
            "455/455 [==============================] - 1s 2ms/step - loss: 1507128.8750\n",
            "Epoch 29/50\n",
            "455/455 [==============================] - 1s 2ms/step - loss: 1505941.8750\n",
            "Epoch 30/50\n",
            "455/455 [==============================] - 1s 2ms/step - loss: 1504759.2500\n",
            "Epoch 31/50\n",
            "455/455 [==============================] - 1s 2ms/step - loss: 1503304.0000\n",
            "Epoch 32/50\n",
            "455/455 [==============================] - 1s 3ms/step - loss: 1502108.3750\n",
            "Epoch 33/50\n",
            "455/455 [==============================] - 1s 3ms/step - loss: 1500245.5000\n",
            "Epoch 34/50\n",
            "455/455 [==============================] - 1s 2ms/step - loss: 1499440.6250\n",
            "Epoch 35/50\n",
            "455/455 [==============================] - 1s 2ms/step - loss: 1497979.3750\n",
            "Epoch 36/50\n",
            "455/455 [==============================] - 1s 2ms/step - loss: 1496446.5000\n",
            "Epoch 37/50\n",
            "455/455 [==============================] - 1s 2ms/step - loss: 1495064.1250\n",
            "Epoch 38/50\n",
            "455/455 [==============================] - 1s 2ms/step - loss: 1493840.0000\n",
            "Epoch 39/50\n",
            "455/455 [==============================] - 1s 2ms/step - loss: 1492432.5000\n",
            "Epoch 40/50\n",
            "455/455 [==============================] - 1s 2ms/step - loss: 1491199.8750\n",
            "Epoch 41/50\n",
            "455/455 [==============================] - 1s 2ms/step - loss: 1489598.8750\n",
            "Epoch 42/50\n",
            "455/455 [==============================] - 1s 2ms/step - loss: 1488095.8750\n",
            "Epoch 43/50\n",
            "455/455 [==============================] - 1s 2ms/step - loss: 1486701.6250\n",
            "Epoch 44/50\n",
            "455/455 [==============================] - 1s 2ms/step - loss: 1484945.3750\n",
            "Epoch 45/50\n",
            "455/455 [==============================] - 1s 2ms/step - loss: 1483339.2500\n",
            "Epoch 46/50\n",
            "455/455 [==============================] - 1s 2ms/step - loss: 1481582.6250\n",
            "Epoch 47/50\n",
            "455/455 [==============================] - 1s 3ms/step - loss: 1480077.8750\n",
            "Epoch 48/50\n",
            "455/455 [==============================] - 1s 3ms/step - loss: 1478280.3750\n",
            "Epoch 49/50\n",
            "455/455 [==============================] - 1s 2ms/step - loss: 1476269.8750\n",
            "Epoch 50/50\n",
            "455/455 [==============================] - 1s 2ms/step - loss: 1474771.7500\n",
            "54/54 [==============================] - 0s 1ms/step\n",
            "54/54 [==============================] - 0s 2ms/step - loss: 1301947.6250\n",
            "Test loss: 1301947.625\n",
            "R-squared: 0.5209852612425245\n",
            "RMSE: 1141.0292377546893\n",
            "MAE =  838.8883285493822\n"
          ]
        }
      ]
    },
    {
      "cell_type": "code",
      "source": [],
      "metadata": {
        "id": "ZGy1RCLCUTB6"
      },
      "id": "ZGy1RCLCUTB6",
      "execution_count": null,
      "outputs": []
    },
    {
      "cell_type": "code",
      "source": [
        "# Sort the data r_squared, rmse, mae\n",
        "sorted_data = sorted(zip(r_squared, labels))\n",
        "sorted_rmse, sorted_labels = zip(*sorted_data)\n",
        "\n",
        "plt.bar(sorted_labels, sorted_rmse)\n",
        "\n",
        "plt.title('RMSE Comparison')\n",
        "plt.xticks(rotation=45)\n",
        "plt.xlabel('Regression Models')\n",
        "plt.ylabel('RMSE')\n",
        "\n",
        "plt.show()"
      ],
      "metadata": {
        "id": "Itl6mqw1YhAg"
      },
      "id": "Itl6mqw1YhAg",
      "execution_count": null,
      "outputs": []
    }
  ],
  "metadata": {
    "kernelspec": {
      "display_name": "Python 3 (ipykernel)",
      "language": "python",
      "name": "python3"
    },
    "language_info": {
      "codemirror_mode": {
        "name": "ipython",
        "version": 3
      },
      "file_extension": ".py",
      "mimetype": "text/x-python",
      "name": "python",
      "nbconvert_exporter": "python",
      "pygments_lexer": "ipython3",
      "version": "3.9.7"
    },
    "colab": {
      "provenance": []
    }
  },
  "nbformat": 4,
  "nbformat_minor": 5
}